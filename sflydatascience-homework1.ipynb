{
 "cells": [
  {
   "cell_type": "markdown",
   "metadata": {},
   "source": [
    "# Order and Online customer behavior using RFM Analysis"
   ]
  },
  {
   "cell_type": "markdown",
   "metadata": {},
   "source": [
    "    OBJECTIVE: To develop a classification model by formulating calculated fields by analyzing and transforming customers \n",
    "    online behavior and conversion data (orders) to useful metrics. \n",
    "\n",
    "    These calculated fields are:- \n",
    "    Recency - When was the last time the customer bought a product? \n",
    "    Frequency - How many times did the customer visit the website/application before buying the product? \n",
    "    Monetary - What is the average spending of the customer? \n",
    "\n",
    "    On the basis of these metrics, I will rate those customers from 1 to 3 for the respective metrics. Using these ratings \n",
    "    I will identify the various types of customers and their personas. Customer personas can be utilized for personalized \n",
    "    target marketing and data-driven strategies. Aforementioned will provide the company insights on how to retain \n",
    "    high valued customers or provide insights on how to configure the accessibility and awareness strategies for less \n",
    "    engaging customers. Later on, we can perform A/B tests to validate our strategies. \n",
    "\n",
    "    Most of our revenue is generated from the existing customer base. It is less expensive to retain an existing customer \n",
    "    than acquiring a new one.\n",
    "    \n",
    "    I will merged online data to validate and filter the orders which has their corresponding session activity logged."
   ]
  },
  {
   "cell_type": "code",
   "execution_count": 402,
   "metadata": {},
   "outputs": [],
   "source": [
    "# All basic imports\n",
    "import numpy as np\n",
    "import pandas as pd\n",
    "import os\n",
    "from datetime import datetime\n",
    "from datetime import timedelta\n",
    "\n",
    "import matplotlib as mpl\n",
    "import matplotlib.pyplot as plt\n",
    "%matplotlib inline\n",
    "plt.style.use(\"ggplot\")\n",
    "plt.rcParams[\"figure.figsize\"] = [12,8]\n",
    "\n",
    "mpl.rc('axes', labelsize=14)\n",
    "mpl.rc('xtick', labelsize=10)\n",
    "mpl.rc('ytick', labelsize=10)\n",
    "\n",
    "import warnings\n",
    "warnings.filterwarnings('ignore')"
   ]
  },
  {
   "cell_type": "code",
   "execution_count": 336,
   "metadata": {},
   "outputs": [],
   "source": [
    "# Read Data\n",
    "onlineData = pd.read_csv(\"online.csv\")\n",
    "orderData = pd.read_csv(\"order.csv\")"
   ]
  },
  {
   "cell_type": "markdown",
   "metadata": {},
   "source": [
    "-----"
   ]
  },
  {
   "cell_type": "markdown",
   "metadata": {},
   "source": [
    "# Exploration, Understanding of the data sets, and Data Cleaning"
   ]
  },
  {
   "cell_type": "code",
   "execution_count": 337,
   "metadata": {},
   "outputs": [
    {
     "data": {
      "text/html": [
       "<div>\n",
       "<style>\n",
       "    .dataframe thead tr:only-child th {\n",
       "        text-align: right;\n",
       "    }\n",
       "\n",
       "    .dataframe thead th {\n",
       "        text-align: left;\n",
       "    }\n",
       "\n",
       "    .dataframe tbody tr th {\n",
       "        vertical-align: top;\n",
       "    }\n",
       "</style>\n",
       "<table border=\"1\" class=\"dataframe\">\n",
       "  <thead>\n",
       "    <tr style=\"text-align: right;\">\n",
       "      <th></th>\n",
       "      <th>session</th>\n",
       "      <th>visitor</th>\n",
       "      <th>dt</th>\n",
       "      <th>custno</th>\n",
       "      <th>category</th>\n",
       "      <th>event1</th>\n",
       "      <th>event2</th>\n",
       "    </tr>\n",
       "  </thead>\n",
       "  <tbody>\n",
       "    <tr>\n",
       "      <th>0</th>\n",
       "      <td>419542</td>\n",
       "      <td>140970</td>\n",
       "      <td>2016-09-16 05:03:23</td>\n",
       "      <td>3840</td>\n",
       "      <td>1</td>\n",
       "      <td>NaN</td>\n",
       "      <td>1</td>\n",
       "    </tr>\n",
       "    <tr>\n",
       "      <th>1</th>\n",
       "      <td>3030130</td>\n",
       "      <td>14501</td>\n",
       "      <td>2017-11-13 04:58:12</td>\n",
       "      <td>70400</td>\n",
       "      <td>1</td>\n",
       "      <td>NaN</td>\n",
       "      <td>1</td>\n",
       "    </tr>\n",
       "    <tr>\n",
       "      <th>2</th>\n",
       "      <td>2638740</td>\n",
       "      <td>419353</td>\n",
       "      <td>2017-05-24 16:10:38</td>\n",
       "      <td>21248</td>\n",
       "      <td>1</td>\n",
       "      <td>NaN</td>\n",
       "      <td>1</td>\n",
       "    </tr>\n",
       "    <tr>\n",
       "      <th>3</th>\n",
       "      <td>880408</td>\n",
       "      <td>90673</td>\n",
       "      <td>2017-10-28 13:42:38</td>\n",
       "      <td>39168</td>\n",
       "      <td>1</td>\n",
       "      <td>NaN</td>\n",
       "      <td>1</td>\n",
       "    </tr>\n",
       "    <tr>\n",
       "      <th>4</th>\n",
       "      <td>2612179</td>\n",
       "      <td>191542</td>\n",
       "      <td>2016-05-17 06:30:32</td>\n",
       "      <td>47616</td>\n",
       "      <td>1</td>\n",
       "      <td>NaN</td>\n",
       "      <td>1</td>\n",
       "    </tr>\n",
       "  </tbody>\n",
       "</table>\n",
       "</div>"
      ],
      "text/plain": [
       "   session  visitor                   dt  custno  category  event1  event2\n",
       "0   419542   140970  2016-09-16 05:03:23    3840         1     NaN       1\n",
       "1  3030130    14501  2017-11-13 04:58:12   70400         1     NaN       1\n",
       "2  2638740   419353  2017-05-24 16:10:38   21248         1     NaN       1\n",
       "3   880408    90673  2017-10-28 13:42:38   39168         1     NaN       1\n",
       "4  2612179   191542  2016-05-17 06:30:32   47616         1     NaN       1"
      ]
     },
     "execution_count": 337,
     "metadata": {},
     "output_type": "execute_result"
    }
   ],
   "source": [
    "onlineData.head()"
   ]
  },
  {
   "cell_type": "code",
   "execution_count": 338,
   "metadata": {},
   "outputs": [
    {
     "data": {
      "text/html": [
       "<div>\n",
       "<style>\n",
       "    .dataframe thead tr:only-child th {\n",
       "        text-align: right;\n",
       "    }\n",
       "\n",
       "    .dataframe thead th {\n",
       "        text-align: left;\n",
       "    }\n",
       "\n",
       "    .dataframe tbody tr th {\n",
       "        vertical-align: top;\n",
       "    }\n",
       "</style>\n",
       "<table border=\"1\" class=\"dataframe\">\n",
       "  <thead>\n",
       "    <tr style=\"text-align: right;\">\n",
       "      <th></th>\n",
       "      <th>custno</th>\n",
       "      <th>ordno</th>\n",
       "      <th>orderdate</th>\n",
       "      <th>prodcat2</th>\n",
       "      <th>prodcat1</th>\n",
       "      <th>revenue</th>\n",
       "    </tr>\n",
       "  </thead>\n",
       "  <tbody>\n",
       "    <tr>\n",
       "      <th>0</th>\n",
       "      <td>18944</td>\n",
       "      <td>64694</td>\n",
       "      <td>2016-11-27 20:57:20</td>\n",
       "      <td>NaN</td>\n",
       "      <td>1</td>\n",
       "      <td>53.30</td>\n",
       "    </tr>\n",
       "    <tr>\n",
       "      <th>1</th>\n",
       "      <td>18944</td>\n",
       "      <td>114405</td>\n",
       "      <td>2017-04-29 20:18:04</td>\n",
       "      <td>NaN</td>\n",
       "      <td>1</td>\n",
       "      <td>0.10</td>\n",
       "    </tr>\n",
       "    <tr>\n",
       "      <th>2</th>\n",
       "      <td>18944</td>\n",
       "      <td>28906</td>\n",
       "      <td>2017-04-23 21:31:03</td>\n",
       "      <td>NaN</td>\n",
       "      <td>1</td>\n",
       "      <td>141.66</td>\n",
       "    </tr>\n",
       "    <tr>\n",
       "      <th>3</th>\n",
       "      <td>36096</td>\n",
       "      <td>62681</td>\n",
       "      <td>2016-02-25 07:16:33</td>\n",
       "      <td>NaN</td>\n",
       "      <td>1</td>\n",
       "      <td>36.82</td>\n",
       "    </tr>\n",
       "    <tr>\n",
       "      <th>4</th>\n",
       "      <td>1</td>\n",
       "      <td>1</td>\n",
       "      <td>2017-06-12 08:27:59</td>\n",
       "      <td>NaN</td>\n",
       "      <td>1</td>\n",
       "      <td>8.35</td>\n",
       "    </tr>\n",
       "  </tbody>\n",
       "</table>\n",
       "</div>"
      ],
      "text/plain": [
       "   custno   ordno            orderdate  prodcat2  prodcat1  revenue\n",
       "0   18944   64694  2016-11-27 20:57:20       NaN         1    53.30\n",
       "1   18944  114405  2017-04-29 20:18:04       NaN         1     0.10\n",
       "2   18944   28906  2017-04-23 21:31:03       NaN         1   141.66\n",
       "3   36096   62681  2016-02-25 07:16:33       NaN         1    36.82\n",
       "4       1       1  2017-06-12 08:27:59       NaN         1     8.35"
      ]
     },
     "execution_count": 338,
     "metadata": {},
     "output_type": "execute_result"
    }
   ],
   "source": [
    "orderData.head()"
   ]
  },
  {
   "cell_type": "code",
   "execution_count": 351,
   "metadata": {},
   "outputs": [
    {
     "name": "stdout",
     "output_type": "stream",
     "text": [
      "Order Data has 263278 rows and 7 columns\n",
      "Online Data has 954774 rows and 8 columns\n"
     ]
    }
   ],
   "source": [
    "print(\"Order Data has \"+ str(orderData.shape[0])+\" rows and \"+str(orderData.shape[1])+\" columns\")\n",
    "print(\"Online Data has \"+ str(onlineData.shape[0])+\" rows and \"+str(onlineData.shape[1])+\" columns\")"
   ]
  },
  {
   "cell_type": "markdown",
   "metadata": {},
   "source": [
    "    Visitors ids are the devices used by the respective customer to interact with the website or the mobile application. \n",
    "    Session ids are the session keys which identifies the session. If the user does not interact for more than 30 \n",
    "    mins a new session key is created for that particular visitor id."
   ]
  },
  {
   "cell_type": "code",
   "execution_count": 340,
   "metadata": {},
   "outputs": [
    {
     "name": "stdout",
     "output_type": "stream",
     "text": [
      " There are in total 57584 unique customers in online data\n",
      " There are in total 70264 unique customers in order data\n"
     ]
    }
   ],
   "source": [
    "print(\" There are in total \" + str(len(onlineData.custno.unique())) + \" unique customers in online data\")\n",
    "print(\" There are in total \" + str(len(orderData.custno.unique())) + \" unique customers in order data\")"
   ]
  },
  {
   "cell_type": "code",
   "execution_count": 341,
   "metadata": {},
   "outputs": [],
   "source": [
    "# Create a separate columns for data and time\n",
    "\n",
    "onlineData['date'] = onlineData.dt.apply(lambda x : x[0:10])\n",
    "onlineData['time'] = onlineData.dt.apply(lambda x : x[11:])\n",
    "\n",
    "orderData['date'] = orderData.orderdate.apply(lambda x : x[0:10])\n",
    "orderData['time'] = orderData.orderdate.apply(lambda x : x[11:])"
   ]
  },
  {
   "cell_type": "code",
   "execution_count": 342,
   "metadata": {
    "collapsed": true
   },
   "outputs": [],
   "source": [
    "# Dropping the datetimes columns\n",
    "\n",
    "del orderData['orderdate']\n",
    "del onlineData['dt']"
   ]
  },
  {
   "cell_type": "markdown",
   "metadata": {},
   "source": [
    "    There are various instances where an order does not have the session activity info in the online data.\n",
    "    For instance:"
   ]
  },
  {
   "cell_type": "markdown",
   "metadata": {},
   "source": [
    "    Custno 1"
   ]
  },
  {
   "cell_type": "code",
   "execution_count": 343,
   "metadata": {},
   "outputs": [
    {
     "data": {
      "text/html": [
       "<div>\n",
       "<style>\n",
       "    .dataframe thead tr:only-child th {\n",
       "        text-align: right;\n",
       "    }\n",
       "\n",
       "    .dataframe thead th {\n",
       "        text-align: left;\n",
       "    }\n",
       "\n",
       "    .dataframe tbody tr th {\n",
       "        vertical-align: top;\n",
       "    }\n",
       "</style>\n",
       "<table border=\"1\" class=\"dataframe\">\n",
       "  <thead>\n",
       "    <tr style=\"text-align: right;\">\n",
       "      <th></th>\n",
       "      <th>session</th>\n",
       "      <th>visitor</th>\n",
       "      <th>custno</th>\n",
       "      <th>category</th>\n",
       "      <th>event1</th>\n",
       "      <th>event2</th>\n",
       "      <th>date</th>\n",
       "      <th>time</th>\n",
       "    </tr>\n",
       "  </thead>\n",
       "  <tbody>\n",
       "  </tbody>\n",
       "</table>\n",
       "</div>"
      ],
      "text/plain": [
       "Empty DataFrame\n",
       "Columns: [session, visitor, custno, category, event1, event2, date, time]\n",
       "Index: []"
      ]
     },
     "execution_count": 343,
     "metadata": {},
     "output_type": "execute_result"
    }
   ],
   "source": [
    "#Result 1 - Custno 1\n",
    "onlineData[(onlineData.custno == 1)]"
   ]
  },
  {
   "cell_type": "code",
   "execution_count": 344,
   "metadata": {},
   "outputs": [
    {
     "data": {
      "text/html": [
       "<div>\n",
       "<style>\n",
       "    .dataframe thead tr:only-child th {\n",
       "        text-align: right;\n",
       "    }\n",
       "\n",
       "    .dataframe thead th {\n",
       "        text-align: left;\n",
       "    }\n",
       "\n",
       "    .dataframe tbody tr th {\n",
       "        vertical-align: top;\n",
       "    }\n",
       "</style>\n",
       "<table border=\"1\" class=\"dataframe\">\n",
       "  <thead>\n",
       "    <tr style=\"text-align: right;\">\n",
       "      <th></th>\n",
       "      <th>custno</th>\n",
       "      <th>ordno</th>\n",
       "      <th>prodcat2</th>\n",
       "      <th>prodcat1</th>\n",
       "      <th>revenue</th>\n",
       "      <th>date</th>\n",
       "      <th>time</th>\n",
       "    </tr>\n",
       "  </thead>\n",
       "  <tbody>\n",
       "    <tr>\n",
       "      <th>4</th>\n",
       "      <td>1</td>\n",
       "      <td>1</td>\n",
       "      <td>NaN</td>\n",
       "      <td>1</td>\n",
       "      <td>8.35</td>\n",
       "      <td>2017-06-12</td>\n",
       "      <td>08:27:59</td>\n",
       "    </tr>\n",
       "  </tbody>\n",
       "</table>\n",
       "</div>"
      ],
      "text/plain": [
       "   custno  ordno  prodcat2  prodcat1  revenue        date      time\n",
       "4       1      1       NaN         1     8.35  2017-06-12  08:27:59"
      ]
     },
     "execution_count": 344,
     "metadata": {},
     "output_type": "execute_result"
    }
   ],
   "source": [
    "#Result 2 - Custno 1\n",
    "orderData[(orderData.custno == 1)]"
   ]
  },
  {
   "cell_type": "markdown",
   "metadata": {},
   "source": [
    "    Example of an instance which has the online activity information before the order was purchased"
   ]
  },
  {
   "cell_type": "markdown",
   "metadata": {},
   "source": [
    "    Custno 637"
   ]
  },
  {
   "cell_type": "code",
   "execution_count": 345,
   "metadata": {},
   "outputs": [
    {
     "data": {
      "text/html": [
       "<div>\n",
       "<style>\n",
       "    .dataframe thead tr:only-child th {\n",
       "        text-align: right;\n",
       "    }\n",
       "\n",
       "    .dataframe thead th {\n",
       "        text-align: left;\n",
       "    }\n",
       "\n",
       "    .dataframe tbody tr th {\n",
       "        vertical-align: top;\n",
       "    }\n",
       "</style>\n",
       "<table border=\"1\" class=\"dataframe\">\n",
       "  <thead>\n",
       "    <tr style=\"text-align: right;\">\n",
       "      <th></th>\n",
       "      <th>session</th>\n",
       "      <th>visitor</th>\n",
       "      <th>custno</th>\n",
       "      <th>category</th>\n",
       "      <th>event1</th>\n",
       "      <th>event2</th>\n",
       "      <th>date</th>\n",
       "      <th>time</th>\n",
       "    </tr>\n",
       "  </thead>\n",
       "  <tbody>\n",
       "    <tr>\n",
       "      <th>71874</th>\n",
       "      <td>9</td>\n",
       "      <td>405166</td>\n",
       "      <td>637</td>\n",
       "      <td>2</td>\n",
       "      <td>NaN</td>\n",
       "      <td>3</td>\n",
       "      <td>2017-10-04</td>\n",
       "      <td>13:36:14</td>\n",
       "    </tr>\n",
       "    <tr>\n",
       "      <th>135720</th>\n",
       "      <td>9</td>\n",
       "      <td>405166</td>\n",
       "      <td>637</td>\n",
       "      <td>2</td>\n",
       "      <td>NaN</td>\n",
       "      <td>7</td>\n",
       "      <td>2017-10-04</td>\n",
       "      <td>13:07:03</td>\n",
       "    </tr>\n",
       "  </tbody>\n",
       "</table>\n",
       "</div>"
      ],
      "text/plain": [
       "        session  visitor  custno  category  event1  event2        date  \\\n",
       "71874         9   405166     637         2     NaN       3  2017-10-04   \n",
       "135720        9   405166     637         2     NaN       7  2017-10-04   \n",
       "\n",
       "            time  \n",
       "71874   13:36:14  \n",
       "135720  13:07:03  "
      ]
     },
     "execution_count": 345,
     "metadata": {},
     "output_type": "execute_result"
    }
   ],
   "source": [
    "#Result 1 - custno 637\n",
    "onlineData[(onlineData.custno == 637) & (onlineData.date == \"2017-10-04\")]"
   ]
  },
  {
   "cell_type": "code",
   "execution_count": 346,
   "metadata": {},
   "outputs": [
    {
     "data": {
      "text/html": [
       "<div>\n",
       "<style>\n",
       "    .dataframe thead tr:only-child th {\n",
       "        text-align: right;\n",
       "    }\n",
       "\n",
       "    .dataframe thead th {\n",
       "        text-align: left;\n",
       "    }\n",
       "\n",
       "    .dataframe tbody tr th {\n",
       "        vertical-align: top;\n",
       "    }\n",
       "</style>\n",
       "<table border=\"1\" class=\"dataframe\">\n",
       "  <thead>\n",
       "    <tr style=\"text-align: right;\">\n",
       "      <th></th>\n",
       "      <th>custno</th>\n",
       "      <th>ordno</th>\n",
       "      <th>prodcat2</th>\n",
       "      <th>prodcat1</th>\n",
       "      <th>revenue</th>\n",
       "      <th>date</th>\n",
       "      <th>time</th>\n",
       "    </tr>\n",
       "  </thead>\n",
       "  <tbody>\n",
       "    <tr>\n",
       "      <th>153499</th>\n",
       "      <td>637</td>\n",
       "      <td>84765</td>\n",
       "      <td>25.0</td>\n",
       "      <td>7</td>\n",
       "      <td>68.48</td>\n",
       "      <td>2017-10-04</td>\n",
       "      <td>02:08:35</td>\n",
       "    </tr>\n",
       "    <tr>\n",
       "      <th>166738</th>\n",
       "      <td>637</td>\n",
       "      <td>151367</td>\n",
       "      <td>30.0</td>\n",
       "      <td>3</td>\n",
       "      <td>119.46</td>\n",
       "      <td>2017-10-04</td>\n",
       "      <td>13:47:35</td>\n",
       "    </tr>\n",
       "  </tbody>\n",
       "</table>\n",
       "</div>"
      ],
      "text/plain": [
       "        custno   ordno  prodcat2  prodcat1  revenue        date      time\n",
       "153499     637   84765      25.0         7    68.48  2017-10-04  02:08:35\n",
       "166738     637  151367      30.0         3   119.46  2017-10-04  13:47:35"
      ]
     },
     "execution_count": 346,
     "metadata": {},
     "output_type": "execute_result"
    }
   ],
   "source": [
    "#Result 2 - custno 637\n",
    "orderData[(orderData.custno == 637) & (orderData.date == \"2017-10-04\")]"
   ]
  },
  {
   "cell_type": "markdown",
   "metadata": {},
   "source": [
    "    If you refer the result 2 index 153499, there was no online activity logged before that order. Whereas in \n",
    "    result 1 we see that there are two activites logged within 30 mins period having same session id. Later there \n",
    "    was a purchase made by the customer on 13:47:35, approximately after 10 mins.\n",
    "\n",
    "    Therefore, I will be keeping only the records which has the online session data after merging order and online table."
   ]
  },
  {
   "cell_type": "code",
   "execution_count": 347,
   "metadata": {
    "collapsed": true
   },
   "outputs": [],
   "source": [
    "data = pd.merge(onlineData, orderData,  how='outer', left_on=['custno','date'], right_on = ['custno','date'])"
   ]
  },
  {
   "cell_type": "code",
   "execution_count": 360,
   "metadata": {
    "collapsed": true
   },
   "outputs": [],
   "source": [
    "# Function to calculate the time difference and check if the online activing and order info wass in same session\n",
    "def timeDiff(x,y):\n",
    "    format = '%H:%M:%S'\n",
    "    return (datetime.strptime(x, format) - datetime.strptime(y, format))\n",
    "\n",
    "def sameSession(x):\n",
    "    if(x.seconds < 1800):\n",
    "        return 1\n",
    "    else:\n",
    "        return 0"
   ]
  },
  {
   "cell_type": "code",
   "execution_count": 350,
   "metadata": {},
   "outputs": [
    {
     "name": "stdout",
     "output_type": "stream",
     "text": [
      "Merged Data has 1196649 rows and 13 rows\n"
     ]
    }
   ],
   "source": [
    "print(\"Merged Data has \"+ str(data.shape[0])+\" rows and \"+str(data.shape[1])+\" columns\")"
   ]
  },
  {
   "cell_type": "code",
   "execution_count": 352,
   "metadata": {},
   "outputs": [
    {
     "data": {
      "text/html": [
       "<div>\n",
       "<style>\n",
       "    .dataframe thead tr:only-child th {\n",
       "        text-align: right;\n",
       "    }\n",
       "\n",
       "    .dataframe thead th {\n",
       "        text-align: left;\n",
       "    }\n",
       "\n",
       "    .dataframe tbody tr th {\n",
       "        vertical-align: top;\n",
       "    }\n",
       "</style>\n",
       "<table border=\"1\" class=\"dataframe\">\n",
       "  <thead>\n",
       "    <tr style=\"text-align: right;\">\n",
       "      <th></th>\n",
       "      <th>session</th>\n",
       "      <th>visitor</th>\n",
       "      <th>custno</th>\n",
       "      <th>category</th>\n",
       "      <th>event1</th>\n",
       "      <th>event2</th>\n",
       "      <th>date</th>\n",
       "      <th>time_x</th>\n",
       "      <th>ordno</th>\n",
       "      <th>prodcat2</th>\n",
       "      <th>prodcat1</th>\n",
       "      <th>revenue</th>\n",
       "      <th>time_y</th>\n",
       "    </tr>\n",
       "  </thead>\n",
       "  <tbody>\n",
       "    <tr>\n",
       "      <th>0</th>\n",
       "      <td>419542.0</td>\n",
       "      <td>140970.0</td>\n",
       "      <td>3840</td>\n",
       "      <td>1.0</td>\n",
       "      <td>NaN</td>\n",
       "      <td>1.0</td>\n",
       "      <td>2016-09-16</td>\n",
       "      <td>05:03:23</td>\n",
       "      <td>NaN</td>\n",
       "      <td>NaN</td>\n",
       "      <td>NaN</td>\n",
       "      <td>NaN</td>\n",
       "      <td>NaN</td>\n",
       "    </tr>\n",
       "    <tr>\n",
       "      <th>1</th>\n",
       "      <td>3030130.0</td>\n",
       "      <td>14501.0</td>\n",
       "      <td>70400</td>\n",
       "      <td>1.0</td>\n",
       "      <td>NaN</td>\n",
       "      <td>1.0</td>\n",
       "      <td>2017-11-13</td>\n",
       "      <td>04:58:12</td>\n",
       "      <td>NaN</td>\n",
       "      <td>NaN</td>\n",
       "      <td>NaN</td>\n",
       "      <td>NaN</td>\n",
       "      <td>NaN</td>\n",
       "    </tr>\n",
       "    <tr>\n",
       "      <th>2</th>\n",
       "      <td>2638740.0</td>\n",
       "      <td>419353.0</td>\n",
       "      <td>21248</td>\n",
       "      <td>1.0</td>\n",
       "      <td>NaN</td>\n",
       "      <td>1.0</td>\n",
       "      <td>2017-05-24</td>\n",
       "      <td>16:10:38</td>\n",
       "      <td>33106.0</td>\n",
       "      <td>3.0</td>\n",
       "      <td>2.0</td>\n",
       "      <td>101.00</td>\n",
       "      <td>16:15:23</td>\n",
       "    </tr>\n",
       "    <tr>\n",
       "      <th>3</th>\n",
       "      <td>2638740.0</td>\n",
       "      <td>419353.0</td>\n",
       "      <td>21248</td>\n",
       "      <td>1.0</td>\n",
       "      <td>NaN</td>\n",
       "      <td>1.0</td>\n",
       "      <td>2017-05-24</td>\n",
       "      <td>16:10:38</td>\n",
       "      <td>33106.0</td>\n",
       "      <td>6.0</td>\n",
       "      <td>3.0</td>\n",
       "      <td>81.70</td>\n",
       "      <td>16:15:23</td>\n",
       "    </tr>\n",
       "    <tr>\n",
       "      <th>4</th>\n",
       "      <td>2638740.0</td>\n",
       "      <td>419353.0</td>\n",
       "      <td>21248</td>\n",
       "      <td>1.0</td>\n",
       "      <td>NaN</td>\n",
       "      <td>1.0</td>\n",
       "      <td>2017-05-24</td>\n",
       "      <td>16:10:38</td>\n",
       "      <td>33106.0</td>\n",
       "      <td>9.0</td>\n",
       "      <td>3.0</td>\n",
       "      <td>21.81</td>\n",
       "      <td>16:15:23</td>\n",
       "    </tr>\n",
       "  </tbody>\n",
       "</table>\n",
       "</div>"
      ],
      "text/plain": [
       "     session   visitor  custno  category  event1  event2        date  \\\n",
       "0   419542.0  140970.0    3840       1.0     NaN     1.0  2016-09-16   \n",
       "1  3030130.0   14501.0   70400       1.0     NaN     1.0  2017-11-13   \n",
       "2  2638740.0  419353.0   21248       1.0     NaN     1.0  2017-05-24   \n",
       "3  2638740.0  419353.0   21248       1.0     NaN     1.0  2017-05-24   \n",
       "4  2638740.0  419353.0   21248       1.0     NaN     1.0  2017-05-24   \n",
       "\n",
       "     time_x    ordno  prodcat2  prodcat1  revenue    time_y  \n",
       "0  05:03:23      NaN       NaN       NaN      NaN       NaN  \n",
       "1  04:58:12      NaN       NaN       NaN      NaN       NaN  \n",
       "2  16:10:38  33106.0       3.0       2.0   101.00  16:15:23  \n",
       "3  16:10:38  33106.0       6.0       3.0    81.70  16:15:23  \n",
       "4  16:10:38  33106.0       9.0       3.0    21.81  16:15:23  "
      ]
     },
     "execution_count": 352,
     "metadata": {},
     "output_type": "execute_result"
    }
   ],
   "source": [
    "data.head()"
   ]
  },
  {
   "cell_type": "markdown",
   "metadata": {},
   "source": [
    "     Filtering data having missing values"
   ]
  },
  {
   "cell_type": "code",
   "execution_count": 356,
   "metadata": {
    "collapsed": true
   },
   "outputs": [],
   "source": [
    "data = data[data.time_y.notnull()]"
   ]
  },
  {
   "cell_type": "code",
   "execution_count": 357,
   "metadata": {
    "collapsed": true
   },
   "outputs": [],
   "source": [
    "data = data[data.time_x.notnull()]"
   ]
  },
  {
   "cell_type": "code",
   "execution_count": 358,
   "metadata": {},
   "outputs": [
    {
     "name": "stdout",
     "output_type": "stream",
     "text": [
      "Merged Data now has 107164 rows and 13 columns\n"
     ]
    }
   ],
   "source": [
    "print(\"Merged Data now has \"+ str(data.shape[0])+\" rows and \"+str(data.shape[1])+\" columns\")"
   ]
  },
  {
   "cell_type": "code",
   "execution_count": 359,
   "metadata": {
    "collapsed": true
   },
   "outputs": [],
   "source": [
    "#Calculating the time difference\n",
    "\n",
    "data['timeDiff'] = data.apply(lambda x: timeDiff(x['time_y'],x['time_x']), axis = 1)"
   ]
  },
  {
   "cell_type": "code",
   "execution_count": 361,
   "metadata": {
    "collapsed": true
   },
   "outputs": [],
   "source": [
    "data['sameSession'] = data['timeDiff'].apply(lambda x : sameSession(x))"
   ]
  },
  {
   "cell_type": "code",
   "execution_count": 21,
   "metadata": {},
   "outputs": [
    {
     "data": {
      "text/plain": [
       "(107164, 15)"
      ]
     },
     "execution_count": 21,
     "metadata": {},
     "output_type": "execute_result"
    }
   ],
   "source": [
    "data.shape"
   ]
  },
  {
   "cell_type": "code",
   "execution_count": 22,
   "metadata": {
    "collapsed": true
   },
   "outputs": [],
   "source": [
    "data = data[data.sameSession == 1 ]"
   ]
  },
  {
   "cell_type": "code",
   "execution_count": 23,
   "metadata": {
    "collapsed": true
   },
   "outputs": [],
   "source": [
    "data['timediff'] = data['timeDiff'].apply(lambda x: x.seconds)"
   ]
  },
  {
   "cell_type": "code",
   "execution_count": 362,
   "metadata": {},
   "outputs": [
    {
     "name": "stdout",
     "output_type": "stream",
     "text": [
      "Merged Data now has 107164 rows and 15 columns\n"
     ]
    }
   ],
   "source": [
    "print(\"Merged Data now has \"+ str(data.shape[0])+\" rows and \"+str(data.shape[1])+\" columns\")"
   ]
  },
  {
   "cell_type": "code",
   "execution_count": 363,
   "metadata": {},
   "outputs": [
    {
     "data": {
      "text/html": [
       "<div>\n",
       "<style>\n",
       "    .dataframe thead tr:only-child th {\n",
       "        text-align: right;\n",
       "    }\n",
       "\n",
       "    .dataframe thead th {\n",
       "        text-align: left;\n",
       "    }\n",
       "\n",
       "    .dataframe tbody tr th {\n",
       "        vertical-align: top;\n",
       "    }\n",
       "</style>\n",
       "<table border=\"1\" class=\"dataframe\">\n",
       "  <thead>\n",
       "    <tr style=\"text-align: right;\">\n",
       "      <th></th>\n",
       "      <th>session</th>\n",
       "      <th>visitor</th>\n",
       "      <th>custno</th>\n",
       "      <th>category</th>\n",
       "      <th>event1</th>\n",
       "      <th>event2</th>\n",
       "      <th>date</th>\n",
       "      <th>time_x</th>\n",
       "      <th>ordno</th>\n",
       "      <th>prodcat2</th>\n",
       "      <th>prodcat1</th>\n",
       "      <th>revenue</th>\n",
       "      <th>time_y</th>\n",
       "      <th>timeDiff</th>\n",
       "      <th>sameSession</th>\n",
       "    </tr>\n",
       "  </thead>\n",
       "  <tbody>\n",
       "    <tr>\n",
       "      <th>2</th>\n",
       "      <td>2638740.0</td>\n",
       "      <td>419353.0</td>\n",
       "      <td>21248</td>\n",
       "      <td>1.0</td>\n",
       "      <td>NaN</td>\n",
       "      <td>1.0</td>\n",
       "      <td>2017-05-24</td>\n",
       "      <td>16:10:38</td>\n",
       "      <td>33106.0</td>\n",
       "      <td>3.0</td>\n",
       "      <td>2.0</td>\n",
       "      <td>101.00</td>\n",
       "      <td>16:15:23</td>\n",
       "      <td>00:04:45</td>\n",
       "      <td>1</td>\n",
       "    </tr>\n",
       "    <tr>\n",
       "      <th>3</th>\n",
       "      <td>2638740.0</td>\n",
       "      <td>419353.0</td>\n",
       "      <td>21248</td>\n",
       "      <td>1.0</td>\n",
       "      <td>NaN</td>\n",
       "      <td>1.0</td>\n",
       "      <td>2017-05-24</td>\n",
       "      <td>16:10:38</td>\n",
       "      <td>33106.0</td>\n",
       "      <td>6.0</td>\n",
       "      <td>3.0</td>\n",
       "      <td>81.70</td>\n",
       "      <td>16:15:23</td>\n",
       "      <td>00:04:45</td>\n",
       "      <td>1</td>\n",
       "    </tr>\n",
       "    <tr>\n",
       "      <th>4</th>\n",
       "      <td>2638740.0</td>\n",
       "      <td>419353.0</td>\n",
       "      <td>21248</td>\n",
       "      <td>1.0</td>\n",
       "      <td>NaN</td>\n",
       "      <td>1.0</td>\n",
       "      <td>2017-05-24</td>\n",
       "      <td>16:10:38</td>\n",
       "      <td>33106.0</td>\n",
       "      <td>9.0</td>\n",
       "      <td>3.0</td>\n",
       "      <td>21.81</td>\n",
       "      <td>16:15:23</td>\n",
       "      <td>00:04:45</td>\n",
       "      <td>1</td>\n",
       "    </tr>\n",
       "    <tr>\n",
       "      <th>47</th>\n",
       "      <td>419741.0</td>\n",
       "      <td>191480.0</td>\n",
       "      <td>57090</td>\n",
       "      <td>1.0</td>\n",
       "      <td>NaN</td>\n",
       "      <td>1.0</td>\n",
       "      <td>2016-06-30</td>\n",
       "      <td>20:29:29</td>\n",
       "      <td>111234.0</td>\n",
       "      <td>3.0</td>\n",
       "      <td>2.0</td>\n",
       "      <td>119.47</td>\n",
       "      <td>20:09:33</td>\n",
       "      <td>-1 days +23:40:04</td>\n",
       "      <td>0</td>\n",
       "    </tr>\n",
       "    <tr>\n",
       "      <th>48</th>\n",
       "      <td>419741.0</td>\n",
       "      <td>191480.0</td>\n",
       "      <td>57090</td>\n",
       "      <td>1.0</td>\n",
       "      <td>NaN</td>\n",
       "      <td>1.0</td>\n",
       "      <td>2016-06-30</td>\n",
       "      <td>20:29:29</td>\n",
       "      <td>111234.0</td>\n",
       "      <td>9.0</td>\n",
       "      <td>3.0</td>\n",
       "      <td>10.38</td>\n",
       "      <td>20:09:33</td>\n",
       "      <td>-1 days +23:40:04</td>\n",
       "      <td>0</td>\n",
       "    </tr>\n",
       "  </tbody>\n",
       "</table>\n",
       "</div>"
      ],
      "text/plain": [
       "      session   visitor  custno  category  event1  event2        date  \\\n",
       "2   2638740.0  419353.0   21248       1.0     NaN     1.0  2017-05-24   \n",
       "3   2638740.0  419353.0   21248       1.0     NaN     1.0  2017-05-24   \n",
       "4   2638740.0  419353.0   21248       1.0     NaN     1.0  2017-05-24   \n",
       "47   419741.0  191480.0   57090       1.0     NaN     1.0  2016-06-30   \n",
       "48   419741.0  191480.0   57090       1.0     NaN     1.0  2016-06-30   \n",
       "\n",
       "      time_x     ordno  prodcat2  prodcat1  revenue    time_y  \\\n",
       "2   16:10:38   33106.0       3.0       2.0   101.00  16:15:23   \n",
       "3   16:10:38   33106.0       6.0       3.0    81.70  16:15:23   \n",
       "4   16:10:38   33106.0       9.0       3.0    21.81  16:15:23   \n",
       "47  20:29:29  111234.0       3.0       2.0   119.47  20:09:33   \n",
       "48  20:29:29  111234.0       9.0       3.0    10.38  20:09:33   \n",
       "\n",
       "            timeDiff  sameSession  \n",
       "2           00:04:45            1  \n",
       "3           00:04:45            1  \n",
       "4           00:04:45            1  \n",
       "47 -1 days +23:40:04            0  \n",
       "48 -1 days +23:40:04            0  "
      ]
     },
     "execution_count": 363,
     "metadata": {},
     "output_type": "execute_result"
    }
   ],
   "source": [
    "data.head()"
   ]
  },
  {
   "cell_type": "code",
   "execution_count": 364,
   "metadata": {},
   "outputs": [
    {
     "data": {
      "text/plain": [
       "21541"
      ]
     },
     "execution_count": 364,
     "metadata": {},
     "output_type": "execute_result"
    }
   ],
   "source": [
    "#Total no of unique customers now\n",
    "len(data.custno.unique())"
   ]
  },
  {
   "cell_type": "code",
   "execution_count": 365,
   "metadata": {
    "collapsed": true
   },
   "outputs": [],
   "source": [
    "data = data.reset_index()"
   ]
  },
  {
   "cell_type": "code",
   "execution_count": 366,
   "metadata": {},
   "outputs": [
    {
     "data": {
      "text/html": [
       "<div>\n",
       "<style>\n",
       "    .dataframe thead tr:only-child th {\n",
       "        text-align: right;\n",
       "    }\n",
       "\n",
       "    .dataframe thead th {\n",
       "        text-align: left;\n",
       "    }\n",
       "\n",
       "    .dataframe tbody tr th {\n",
       "        vertical-align: top;\n",
       "    }\n",
       "</style>\n",
       "<table border=\"1\" class=\"dataframe\">\n",
       "  <thead>\n",
       "    <tr style=\"text-align: right;\">\n",
       "      <th></th>\n",
       "      <th>index</th>\n",
       "      <th>session</th>\n",
       "      <th>visitor</th>\n",
       "      <th>custno</th>\n",
       "      <th>category</th>\n",
       "      <th>event1</th>\n",
       "      <th>event2</th>\n",
       "      <th>date</th>\n",
       "      <th>time_x</th>\n",
       "      <th>ordno</th>\n",
       "      <th>prodcat2</th>\n",
       "      <th>prodcat1</th>\n",
       "      <th>revenue</th>\n",
       "      <th>time_y</th>\n",
       "      <th>timeDiff</th>\n",
       "      <th>sameSession</th>\n",
       "    </tr>\n",
       "  </thead>\n",
       "  <tbody>\n",
       "    <tr>\n",
       "      <th>0</th>\n",
       "      <td>2</td>\n",
       "      <td>2638740.0</td>\n",
       "      <td>419353.0</td>\n",
       "      <td>21248</td>\n",
       "      <td>1.0</td>\n",
       "      <td>NaN</td>\n",
       "      <td>1.0</td>\n",
       "      <td>2017-05-24</td>\n",
       "      <td>16:10:38</td>\n",
       "      <td>33106.0</td>\n",
       "      <td>3.0</td>\n",
       "      <td>2.0</td>\n",
       "      <td>101.00</td>\n",
       "      <td>16:15:23</td>\n",
       "      <td>00:04:45</td>\n",
       "      <td>1</td>\n",
       "    </tr>\n",
       "    <tr>\n",
       "      <th>1</th>\n",
       "      <td>3</td>\n",
       "      <td>2638740.0</td>\n",
       "      <td>419353.0</td>\n",
       "      <td>21248</td>\n",
       "      <td>1.0</td>\n",
       "      <td>NaN</td>\n",
       "      <td>1.0</td>\n",
       "      <td>2017-05-24</td>\n",
       "      <td>16:10:38</td>\n",
       "      <td>33106.0</td>\n",
       "      <td>6.0</td>\n",
       "      <td>3.0</td>\n",
       "      <td>81.70</td>\n",
       "      <td>16:15:23</td>\n",
       "      <td>00:04:45</td>\n",
       "      <td>1</td>\n",
       "    </tr>\n",
       "    <tr>\n",
       "      <th>2</th>\n",
       "      <td>4</td>\n",
       "      <td>2638740.0</td>\n",
       "      <td>419353.0</td>\n",
       "      <td>21248</td>\n",
       "      <td>1.0</td>\n",
       "      <td>NaN</td>\n",
       "      <td>1.0</td>\n",
       "      <td>2017-05-24</td>\n",
       "      <td>16:10:38</td>\n",
       "      <td>33106.0</td>\n",
       "      <td>9.0</td>\n",
       "      <td>3.0</td>\n",
       "      <td>21.81</td>\n",
       "      <td>16:15:23</td>\n",
       "      <td>00:04:45</td>\n",
       "      <td>1</td>\n",
       "    </tr>\n",
       "    <tr>\n",
       "      <th>3</th>\n",
       "      <td>47</td>\n",
       "      <td>419741.0</td>\n",
       "      <td>191480.0</td>\n",
       "      <td>57090</td>\n",
       "      <td>1.0</td>\n",
       "      <td>NaN</td>\n",
       "      <td>1.0</td>\n",
       "      <td>2016-06-30</td>\n",
       "      <td>20:29:29</td>\n",
       "      <td>111234.0</td>\n",
       "      <td>3.0</td>\n",
       "      <td>2.0</td>\n",
       "      <td>119.47</td>\n",
       "      <td>20:09:33</td>\n",
       "      <td>-1 days +23:40:04</td>\n",
       "      <td>0</td>\n",
       "    </tr>\n",
       "    <tr>\n",
       "      <th>4</th>\n",
       "      <td>48</td>\n",
       "      <td>419741.0</td>\n",
       "      <td>191480.0</td>\n",
       "      <td>57090</td>\n",
       "      <td>1.0</td>\n",
       "      <td>NaN</td>\n",
       "      <td>1.0</td>\n",
       "      <td>2016-06-30</td>\n",
       "      <td>20:29:29</td>\n",
       "      <td>111234.0</td>\n",
       "      <td>9.0</td>\n",
       "      <td>3.0</td>\n",
       "      <td>10.38</td>\n",
       "      <td>20:09:33</td>\n",
       "      <td>-1 days +23:40:04</td>\n",
       "      <td>0</td>\n",
       "    </tr>\n",
       "  </tbody>\n",
       "</table>\n",
       "</div>"
      ],
      "text/plain": [
       "   index    session   visitor  custno  category  event1  event2        date  \\\n",
       "0      2  2638740.0  419353.0   21248       1.0     NaN     1.0  2017-05-24   \n",
       "1      3  2638740.0  419353.0   21248       1.0     NaN     1.0  2017-05-24   \n",
       "2      4  2638740.0  419353.0   21248       1.0     NaN     1.0  2017-05-24   \n",
       "3     47   419741.0  191480.0   57090       1.0     NaN     1.0  2016-06-30   \n",
       "4     48   419741.0  191480.0   57090       1.0     NaN     1.0  2016-06-30   \n",
       "\n",
       "     time_x     ordno  prodcat2  prodcat1  revenue    time_y  \\\n",
       "0  16:10:38   33106.0       3.0       2.0   101.00  16:15:23   \n",
       "1  16:10:38   33106.0       6.0       3.0    81.70  16:15:23   \n",
       "2  16:10:38   33106.0       9.0       3.0    21.81  16:15:23   \n",
       "3  20:29:29  111234.0       3.0       2.0   119.47  20:09:33   \n",
       "4  20:29:29  111234.0       9.0       3.0    10.38  20:09:33   \n",
       "\n",
       "           timeDiff  sameSession  \n",
       "0          00:04:45            1  \n",
       "1          00:04:45            1  \n",
       "2          00:04:45            1  \n",
       "3 -1 days +23:40:04            0  \n",
       "4 -1 days +23:40:04            0  "
      ]
     },
     "execution_count": 366,
     "metadata": {},
     "output_type": "execute_result"
    }
   ],
   "source": [
    "data.head()"
   ]
  },
  {
   "cell_type": "code",
   "execution_count": 367,
   "metadata": {
    "collapsed": true
   },
   "outputs": [],
   "source": [
    "del data['index']"
   ]
  },
  {
   "cell_type": "code",
   "execution_count": 368,
   "metadata": {},
   "outputs": [
    {
     "data": {
      "text/plain": [
       "session                float64\n",
       "visitor                float64\n",
       "custno                   int64\n",
       "category               float64\n",
       "event1                 float64\n",
       "event2                 float64\n",
       "date                    object\n",
       "time_x                  object\n",
       "ordno                  float64\n",
       "prodcat2               float64\n",
       "prodcat1               float64\n",
       "revenue                float64\n",
       "time_y                  object\n",
       "timeDiff       timedelta64[ns]\n",
       "sameSession              int64\n",
       "dtype: object"
      ]
     },
     "execution_count": 368,
     "metadata": {},
     "output_type": "execute_result"
    }
   ],
   "source": [
    "data.dtypes"
   ]
  },
  {
   "cell_type": "code",
   "execution_count": 369,
   "metadata": {
    "collapsed": true
   },
   "outputs": [],
   "source": [
    "data['date'] = pd.to_datetime(data['date'])"
   ]
  },
  {
   "cell_type": "code",
   "execution_count": 370,
   "metadata": {
    "collapsed": true
   },
   "outputs": [],
   "source": [
    "data = data.sort_values('session')"
   ]
  },
  {
   "cell_type": "markdown",
   "metadata": {},
   "source": [
    "### Visualizations to understand the data"
   ]
  },
  {
   "cell_type": "code",
   "execution_count": 597,
   "metadata": {},
   "outputs": [
    {
     "data": {
      "image/png": "[encoded data removed]",
      "text/plain": [
       "<matplotlib.figure.Figure at 0x22ed9347780>"
      ]
     },
     "metadata": {},
     "output_type": "display_data"
    }
   ],
   "source": [
    "import seaborn as sns\n",
    "sns.pairplot(data[['sameSession','event2','category']])\n",
    "plt.show()"
   ]
  },
  {
   "cell_type": "code",
   "execution_count": 403,
   "metadata": {},
   "outputs": [
    {
     "data": {
      "image/png": "[encoded data removed]",
      "text/plain": [
       "<matplotlib.figure.Figure at 0x22ed588e2b0>"
      ]
     },
     "metadata": {},
     "output_type": "display_data"
    }
   ],
   "source": [
    "plt.hist(data.revenue, bins= 100)\n",
    "plt.title('Histogram of revenue')\n",
    "plt.show()"
   ]
  },
  {
   "cell_type": "code",
   "execution_count": 404,
   "metadata": {},
   "outputs": [
    {
     "data": {
      "image/png": "[encoded data removed]",
      "text/plain": [
       "<matplotlib.figure.Figure at 0x22ed588e6a0>"
      ]
     },
     "metadata": {},
     "output_type": "display_data"
    }
   ],
   "source": [
    "temp = data.groupby(['category']).size()\n",
    "plt.plot(data.groupby(['category']).size(),color = 'b')\n",
    "plt.bar(temp.index, temp.values)\n",
    "plt.title('No of orders per category')\n",
    "plt.xlabel('Category')\n",
    "plt.ylabel('No. of orders')\n",
    "plt.show()"
   ]
  },
  {
   "cell_type": "code",
   "execution_count": 415,
   "metadata": {},
   "outputs": [
    {
     "data": {
      "image/png": "[encoded data removed]",
      "text/plain": [
       "<matplotlib.figure.Figure at 0x22ed86a77b8>"
      ]
     },
     "metadata": {},
     "output_type": "display_data"
    }
   ],
   "source": [
    "temp = data.groupby(['sameSession']).size()\n",
    "plt.bar(temp.index, temp.values)\n",
    "plt.title('No of orders in same session')\n",
    "plt.xlabel('sameSession')\n",
    "plt.ylabel('No. of orders')\n",
    "plt.xticks([0,1])\n",
    "plt.show()"
   ]
  },
  {
   "cell_type": "markdown",
   "metadata": {},
   "source": [
    "---"
   ]
  },
  {
   "cell_type": "markdown",
   "metadata": {},
   "source": [
    "## RFM dataset creation"
   ]
  },
  {
   "cell_type": "markdown",
   "metadata": {},
   "source": [
    "### Total revenue per session and Total session attended"
   ]
  },
  {
   "cell_type": "code",
   "execution_count": 422,
   "metadata": {
    "collapsed": true
   },
   "outputs": [],
   "source": [
    "temp = data.groupby(['session']).sum()"
   ]
  },
  {
   "cell_type": "code",
   "execution_count": 423,
   "metadata": {
    "collapsed": true
   },
   "outputs": [],
   "source": [
    "temp = temp.sort_index()"
   ]
  },
  {
   "cell_type": "code",
   "execution_count": 424,
   "metadata": {},
   "outputs": [
    {
     "data": {
      "text/html": [
       "<div>\n",
       "<style>\n",
       "    .dataframe thead tr:only-child th {\n",
       "        text-align: right;\n",
       "    }\n",
       "\n",
       "    .dataframe thead th {\n",
       "        text-align: left;\n",
       "    }\n",
       "\n",
       "    .dataframe tbody tr th {\n",
       "        vertical-align: top;\n",
       "    }\n",
       "</style>\n",
       "<table border=\"1\" class=\"dataframe\">\n",
       "  <thead>\n",
       "    <tr style=\"text-align: right;\">\n",
       "      <th></th>\n",
       "      <th>visitor</th>\n",
       "      <th>custno</th>\n",
       "      <th>category</th>\n",
       "      <th>event1</th>\n",
       "      <th>event2</th>\n",
       "      <th>ordno</th>\n",
       "      <th>prodcat2</th>\n",
       "      <th>prodcat1</th>\n",
       "      <th>revenue</th>\n",
       "      <th>sameSession</th>\n",
       "    </tr>\n",
       "    <tr>\n",
       "      <th>session</th>\n",
       "      <th></th>\n",
       "      <th></th>\n",
       "      <th></th>\n",
       "      <th></th>\n",
       "      <th></th>\n",
       "      <th></th>\n",
       "      <th></th>\n",
       "      <th></th>\n",
       "      <th></th>\n",
       "      <th></th>\n",
       "    </tr>\n",
       "  </thead>\n",
       "  <tbody>\n",
       "    <tr>\n",
       "      <th>9.0</th>\n",
       "      <td>1620664.0</td>\n",
       "      <td>2548</td>\n",
       "      <td>8.0</td>\n",
       "      <td>NaN</td>\n",
       "      <td>20.0</td>\n",
       "      <td>472264.0</td>\n",
       "      <td>110.0</td>\n",
       "      <td>20.0</td>\n",
       "      <td>375.88</td>\n",
       "      <td>1</td>\n",
       "    </tr>\n",
       "    <tr>\n",
       "      <th>21.0</th>\n",
       "      <td>383763.0</td>\n",
       "      <td>69508</td>\n",
       "      <td>2.0</td>\n",
       "      <td>NaN</td>\n",
       "      <td>4.0</td>\n",
       "      <td>148458.0</td>\n",
       "      <td>13.0</td>\n",
       "      <td>4.0</td>\n",
       "      <td>105.21</td>\n",
       "      <td>1</td>\n",
       "    </tr>\n",
       "    <tr>\n",
       "      <th>32.0</th>\n",
       "      <td>278715.0</td>\n",
       "      <td>4008</td>\n",
       "      <td>2.0</td>\n",
       "      <td>NaN</td>\n",
       "      <td>7.0</td>\n",
       "      <td>81006.0</td>\n",
       "      <td>50.0</td>\n",
       "      <td>7.0</td>\n",
       "      <td>25.40</td>\n",
       "      <td>1</td>\n",
       "    </tr>\n",
       "    <tr>\n",
       "      <th>33.0</th>\n",
       "      <td>411422.0</td>\n",
       "      <td>53966</td>\n",
       "      <td>2.0</td>\n",
       "      <td>NaN</td>\n",
       "      <td>9.0</td>\n",
       "      <td>104128.0</td>\n",
       "      <td>169.0</td>\n",
       "      <td>1.0</td>\n",
       "      <td>71.60</td>\n",
       "      <td>0</td>\n",
       "    </tr>\n",
       "    <tr>\n",
       "      <th>53.0</th>\n",
       "      <td>469594.0</td>\n",
       "      <td>21449</td>\n",
       "      <td>2.0</td>\n",
       "      <td>NaN</td>\n",
       "      <td>9.0</td>\n",
       "      <td>152095.0</td>\n",
       "      <td>30.0</td>\n",
       "      <td>3.0</td>\n",
       "      <td>11.99</td>\n",
       "      <td>0</td>\n",
       "    </tr>\n",
       "  </tbody>\n",
       "</table>\n",
       "</div>"
      ],
      "text/plain": [
       "           visitor  custno  category  event1  event2     ordno  prodcat2  \\\n",
       "session                                                                    \n",
       "9.0      1620664.0    2548       8.0     NaN    20.0  472264.0     110.0   \n",
       "21.0      383763.0   69508       2.0     NaN     4.0  148458.0      13.0   \n",
       "32.0      278715.0    4008       2.0     NaN     7.0   81006.0      50.0   \n",
       "33.0      411422.0   53966       2.0     NaN     9.0  104128.0     169.0   \n",
       "53.0      469594.0   21449       2.0     NaN     9.0  152095.0      30.0   \n",
       "\n",
       "         prodcat1  revenue  sameSession  \n",
       "session                                  \n",
       "9.0          20.0   375.88            1  \n",
       "21.0          4.0   105.21            1  \n",
       "32.0          7.0    25.40            1  \n",
       "33.0          1.0    71.60            0  \n",
       "53.0          3.0    11.99            0  "
      ]
     },
     "execution_count": 424,
     "metadata": {},
     "output_type": "execute_result"
    }
   ],
   "source": [
    "temp.head()"
   ]
  },
  {
   "cell_type": "code",
   "execution_count": 425,
   "metadata": {
    "collapsed": true
   },
   "outputs": [],
   "source": [
    "behaviorData = temp[['revenue','sameSession']]"
   ]
  },
  {
   "cell_type": "code",
   "execution_count": 426,
   "metadata": {},
   "outputs": [
    {
     "data": {
      "text/html": [
       "<div>\n",
       "<style>\n",
       "    .dataframe thead tr:only-child th {\n",
       "        text-align: right;\n",
       "    }\n",
       "\n",
       "    .dataframe thead th {\n",
       "        text-align: left;\n",
       "    }\n",
       "\n",
       "    .dataframe tbody tr th {\n",
       "        vertical-align: top;\n",
       "    }\n",
       "</style>\n",
       "<table border=\"1\" class=\"dataframe\">\n",
       "  <thead>\n",
       "    <tr style=\"text-align: right;\">\n",
       "      <th></th>\n",
       "      <th>revenue</th>\n",
       "      <th>sameSession</th>\n",
       "    </tr>\n",
       "    <tr>\n",
       "      <th>session</th>\n",
       "      <th></th>\n",
       "      <th></th>\n",
       "    </tr>\n",
       "  </thead>\n",
       "  <tbody>\n",
       "    <tr>\n",
       "      <th>9.0</th>\n",
       "      <td>375.88</td>\n",
       "      <td>1</td>\n",
       "    </tr>\n",
       "    <tr>\n",
       "      <th>21.0</th>\n",
       "      <td>105.21</td>\n",
       "      <td>1</td>\n",
       "    </tr>\n",
       "    <tr>\n",
       "      <th>32.0</th>\n",
       "      <td>25.40</td>\n",
       "      <td>1</td>\n",
       "    </tr>\n",
       "    <tr>\n",
       "      <th>33.0</th>\n",
       "      <td>71.60</td>\n",
       "      <td>0</td>\n",
       "    </tr>\n",
       "    <tr>\n",
       "      <th>53.0</th>\n",
       "      <td>11.99</td>\n",
       "      <td>0</td>\n",
       "    </tr>\n",
       "  </tbody>\n",
       "</table>\n",
       "</div>"
      ],
      "text/plain": [
       "         revenue  sameSession\n",
       "session                      \n",
       "9.0       375.88            1\n",
       "21.0      105.21            1\n",
       "32.0       25.40            1\n",
       "33.0       71.60            0\n",
       "53.0       11.99            0"
      ]
     },
     "execution_count": 426,
     "metadata": {},
     "output_type": "execute_result"
    }
   ],
   "source": [
    "behaviorData.head()"
   ]
  },
  {
   "cell_type": "markdown",
   "metadata": {},
   "source": [
    "### Add customer id to behavior data"
   ]
  },
  {
   "cell_type": "code",
   "execution_count": 427,
   "metadata": {
    "collapsed": true
   },
   "outputs": [],
   "source": [
    "temp = data[['session','custno']]"
   ]
  },
  {
   "cell_type": "code",
   "execution_count": 428,
   "metadata": {
    "collapsed": true
   },
   "outputs": [],
   "source": [
    "temp = temp.drop_duplicates()"
   ]
  },
  {
   "cell_type": "code",
   "execution_count": 429,
   "metadata": {
    "collapsed": true
   },
   "outputs": [],
   "source": [
    "temp.index = temp.session"
   ]
  },
  {
   "cell_type": "code",
   "execution_count": 430,
   "metadata": {},
   "outputs": [
    {
     "data": {
      "text/html": [
       "<div>\n",
       "<style>\n",
       "    .dataframe thead tr:only-child th {\n",
       "        text-align: right;\n",
       "    }\n",
       "\n",
       "    .dataframe thead th {\n",
       "        text-align: left;\n",
       "    }\n",
       "\n",
       "    .dataframe tbody tr th {\n",
       "        vertical-align: top;\n",
       "    }\n",
       "</style>\n",
       "<table border=\"1\" class=\"dataframe\">\n",
       "  <thead>\n",
       "    <tr style=\"text-align: right;\">\n",
       "      <th></th>\n",
       "      <th>session</th>\n",
       "      <th>custno</th>\n",
       "    </tr>\n",
       "    <tr>\n",
       "      <th>session</th>\n",
       "      <th></th>\n",
       "      <th></th>\n",
       "    </tr>\n",
       "  </thead>\n",
       "  <tbody>\n",
       "    <tr>\n",
       "      <th>9.0</th>\n",
       "      <td>9.0</td>\n",
       "      <td>637</td>\n",
       "    </tr>\n",
       "    <tr>\n",
       "      <th>21.0</th>\n",
       "      <td>21.0</td>\n",
       "      <td>69508</td>\n",
       "    </tr>\n",
       "    <tr>\n",
       "      <th>32.0</th>\n",
       "      <td>32.0</td>\n",
       "      <td>4008</td>\n",
       "    </tr>\n",
       "    <tr>\n",
       "      <th>33.0</th>\n",
       "      <td>33.0</td>\n",
       "      <td>53966</td>\n",
       "    </tr>\n",
       "    <tr>\n",
       "      <th>53.0</th>\n",
       "      <td>53.0</td>\n",
       "      <td>21449</td>\n",
       "    </tr>\n",
       "  </tbody>\n",
       "</table>\n",
       "</div>"
      ],
      "text/plain": [
       "         session  custno\n",
       "session                 \n",
       "9.0          9.0     637\n",
       "21.0        21.0   69508\n",
       "32.0        32.0    4008\n",
       "33.0        33.0   53966\n",
       "53.0        53.0   21449"
      ]
     },
     "execution_count": 430,
     "metadata": {},
     "output_type": "execute_result"
    }
   ],
   "source": [
    "temp.head()"
   ]
  },
  {
   "cell_type": "code",
   "execution_count": 431,
   "metadata": {
    "collapsed": true
   },
   "outputs": [],
   "source": [
    "behaviorData['custno'] = temp['custno']"
   ]
  },
  {
   "cell_type": "code",
   "execution_count": 432,
   "metadata": {},
   "outputs": [
    {
     "data": {
      "text/html": [
       "<div>\n",
       "<style>\n",
       "    .dataframe thead tr:only-child th {\n",
       "        text-align: right;\n",
       "    }\n",
       "\n",
       "    .dataframe thead th {\n",
       "        text-align: left;\n",
       "    }\n",
       "\n",
       "    .dataframe tbody tr th {\n",
       "        vertical-align: top;\n",
       "    }\n",
       "</style>\n",
       "<table border=\"1\" class=\"dataframe\">\n",
       "  <thead>\n",
       "    <tr style=\"text-align: right;\">\n",
       "      <th></th>\n",
       "      <th>revenue</th>\n",
       "      <th>sameSession</th>\n",
       "      <th>custno</th>\n",
       "    </tr>\n",
       "    <tr>\n",
       "      <th>session</th>\n",
       "      <th></th>\n",
       "      <th></th>\n",
       "      <th></th>\n",
       "    </tr>\n",
       "  </thead>\n",
       "  <tbody>\n",
       "    <tr>\n",
       "      <th>9.0</th>\n",
       "      <td>375.88</td>\n",
       "      <td>1</td>\n",
       "      <td>637</td>\n",
       "    </tr>\n",
       "    <tr>\n",
       "      <th>21.0</th>\n",
       "      <td>105.21</td>\n",
       "      <td>1</td>\n",
       "      <td>69508</td>\n",
       "    </tr>\n",
       "    <tr>\n",
       "      <th>32.0</th>\n",
       "      <td>25.40</td>\n",
       "      <td>1</td>\n",
       "      <td>4008</td>\n",
       "    </tr>\n",
       "    <tr>\n",
       "      <th>33.0</th>\n",
       "      <td>71.60</td>\n",
       "      <td>0</td>\n",
       "      <td>53966</td>\n",
       "    </tr>\n",
       "    <tr>\n",
       "      <th>53.0</th>\n",
       "      <td>11.99</td>\n",
       "      <td>0</td>\n",
       "      <td>21449</td>\n",
       "    </tr>\n",
       "  </tbody>\n",
       "</table>\n",
       "</div>"
      ],
      "text/plain": [
       "         revenue  sameSession  custno\n",
       "session                              \n",
       "9.0       375.88            1     637\n",
       "21.0      105.21            1   69508\n",
       "32.0       25.40            1    4008\n",
       "33.0       71.60            0   53966\n",
       "53.0       11.99            0   21449"
      ]
     },
     "execution_count": 432,
     "metadata": {},
     "output_type": "execute_result"
    }
   ],
   "source": [
    "behaviorData.head()"
   ]
  },
  {
   "cell_type": "code",
   "execution_count": 433,
   "metadata": {
    "collapsed": true
   },
   "outputs": [],
   "source": [
    "# Rename Columns\n",
    "behaviorData.columns = ['revenue','countOfProducts','custno']"
   ]
  },
  {
   "cell_type": "markdown",
   "metadata": {},
   "source": [
    "#### add date purchased in Behavior data"
   ]
  },
  {
   "cell_type": "code",
   "execution_count": 434,
   "metadata": {
    "collapsed": true
   },
   "outputs": [],
   "source": [
    "temp = data[['custno', 'date','session']]"
   ]
  },
  {
   "cell_type": "code",
   "execution_count": 435,
   "metadata": {
    "collapsed": true
   },
   "outputs": [],
   "source": [
    "temp = temp.drop_duplicates(['session'])"
   ]
  },
  {
   "cell_type": "code",
   "execution_count": 436,
   "metadata": {
    "collapsed": true
   },
   "outputs": [],
   "source": [
    "temp = temp.sort_values(['custno'])"
   ]
  },
  {
   "cell_type": "code",
   "execution_count": 437,
   "metadata": {
    "collapsed": true
   },
   "outputs": [],
   "source": [
    "temp.index = temp.session"
   ]
  },
  {
   "cell_type": "code",
   "execution_count": 438,
   "metadata": {},
   "outputs": [
    {
     "data": {
      "text/html": [
       "<div>\n",
       "<style>\n",
       "    .dataframe thead tr:only-child th {\n",
       "        text-align: right;\n",
       "    }\n",
       "\n",
       "    .dataframe thead th {\n",
       "        text-align: left;\n",
       "    }\n",
       "\n",
       "    .dataframe tbody tr th {\n",
       "        vertical-align: top;\n",
       "    }\n",
       "</style>\n",
       "<table border=\"1\" class=\"dataframe\">\n",
       "  <thead>\n",
       "    <tr style=\"text-align: right;\">\n",
       "      <th></th>\n",
       "      <th>custno</th>\n",
       "      <th>date</th>\n",
       "      <th>session</th>\n",
       "    </tr>\n",
       "    <tr>\n",
       "      <th>session</th>\n",
       "      <th></th>\n",
       "      <th></th>\n",
       "      <th></th>\n",
       "    </tr>\n",
       "  </thead>\n",
       "  <tbody>\n",
       "    <tr>\n",
       "      <th>2379149.0</th>\n",
       "      <td>7</td>\n",
       "      <td>2016-04-25</td>\n",
       "      <td>2379149.0</td>\n",
       "    </tr>\n",
       "    <tr>\n",
       "      <th>3446701.0</th>\n",
       "      <td>8</td>\n",
       "      <td>2017-12-27</td>\n",
       "      <td>3446701.0</td>\n",
       "    </tr>\n",
       "    <tr>\n",
       "      <th>2333771.0</th>\n",
       "      <td>8</td>\n",
       "      <td>2017-09-12</td>\n",
       "      <td>2333771.0</td>\n",
       "    </tr>\n",
       "    <tr>\n",
       "      <th>3632314.0</th>\n",
       "      <td>8</td>\n",
       "      <td>2016-12-11</td>\n",
       "      <td>3632314.0</td>\n",
       "    </tr>\n",
       "    <tr>\n",
       "      <th>3676780.0</th>\n",
       "      <td>8</td>\n",
       "      <td>2016-12-13</td>\n",
       "      <td>3676780.0</td>\n",
       "    </tr>\n",
       "  </tbody>\n",
       "</table>\n",
       "</div>"
      ],
      "text/plain": [
       "           custno       date    session\n",
       "session                                \n",
       "2379149.0       7 2016-04-25  2379149.0\n",
       "3446701.0       8 2017-12-27  3446701.0\n",
       "2333771.0       8 2017-09-12  2333771.0\n",
       "3632314.0       8 2016-12-11  3632314.0\n",
       "3676780.0       8 2016-12-13  3676780.0"
      ]
     },
     "execution_count": 438,
     "metadata": {},
     "output_type": "execute_result"
    }
   ],
   "source": [
    "temp.head()"
   ]
  },
  {
   "cell_type": "code",
   "execution_count": 439,
   "metadata": {
    "collapsed": true
   },
   "outputs": [],
   "source": [
    "behaviorData = behaviorData.sort_values(['custno'])"
   ]
  },
  {
   "cell_type": "code",
   "execution_count": 440,
   "metadata": {
    "collapsed": true
   },
   "outputs": [],
   "source": [
    "behaviorData['date'] = temp['date']"
   ]
  },
  {
   "cell_type": "code",
   "execution_count": 441,
   "metadata": {},
   "outputs": [
    {
     "data": {
      "text/html": [
       "<div>\n",
       "<style>\n",
       "    .dataframe thead tr:only-child th {\n",
       "        text-align: right;\n",
       "    }\n",
       "\n",
       "    .dataframe thead th {\n",
       "        text-align: left;\n",
       "    }\n",
       "\n",
       "    .dataframe tbody tr th {\n",
       "        vertical-align: top;\n",
       "    }\n",
       "</style>\n",
       "<table border=\"1\" class=\"dataframe\">\n",
       "  <thead>\n",
       "    <tr style=\"text-align: right;\">\n",
       "      <th></th>\n",
       "      <th>revenue</th>\n",
       "      <th>countOfProducts</th>\n",
       "      <th>custno</th>\n",
       "      <th>date</th>\n",
       "    </tr>\n",
       "    <tr>\n",
       "      <th>session</th>\n",
       "      <th></th>\n",
       "      <th></th>\n",
       "      <th></th>\n",
       "      <th></th>\n",
       "    </tr>\n",
       "  </thead>\n",
       "  <tbody>\n",
       "    <tr>\n",
       "      <th>2379149.0</th>\n",
       "      <td>665.35</td>\n",
       "      <td>0</td>\n",
       "      <td>7</td>\n",
       "      <td>2016-04-25</td>\n",
       "    </tr>\n",
       "    <tr>\n",
       "      <th>3446701.0</th>\n",
       "      <td>111.49</td>\n",
       "      <td>0</td>\n",
       "      <td>8</td>\n",
       "      <td>2017-12-27</td>\n",
       "    </tr>\n",
       "    <tr>\n",
       "      <th>2333771.0</th>\n",
       "      <td>152.85</td>\n",
       "      <td>0</td>\n",
       "      <td>8</td>\n",
       "      <td>2017-09-12</td>\n",
       "    </tr>\n",
       "    <tr>\n",
       "      <th>3632314.0</th>\n",
       "      <td>176.00</td>\n",
       "      <td>1</td>\n",
       "      <td>8</td>\n",
       "      <td>2016-12-11</td>\n",
       "    </tr>\n",
       "    <tr>\n",
       "      <th>3676780.0</th>\n",
       "      <td>179.03</td>\n",
       "      <td>0</td>\n",
       "      <td>8</td>\n",
       "      <td>2016-12-13</td>\n",
       "    </tr>\n",
       "  </tbody>\n",
       "</table>\n",
       "</div>"
      ],
      "text/plain": [
       "           revenue  countOfProducts  custno       date\n",
       "session                                               \n",
       "2379149.0   665.35                0       7 2016-04-25\n",
       "3446701.0   111.49                0       8 2017-12-27\n",
       "2333771.0   152.85                0       8 2017-09-12\n",
       "3632314.0   176.00                1       8 2016-12-11\n",
       "3676780.0   179.03                0       8 2016-12-13"
      ]
     },
     "execution_count": 441,
     "metadata": {},
     "output_type": "execute_result"
    }
   ],
   "source": [
    "behaviorData.head()"
   ]
  },
  {
   "cell_type": "code",
   "execution_count": 442,
   "metadata": {},
   "outputs": [
    {
     "data": {
      "text/plain": [
       "revenue            0\n",
       "countOfProducts    0\n",
       "custno             0\n",
       "date               0\n",
       "dtype: int64"
      ]
     },
     "execution_count": 442,
     "metadata": {},
     "output_type": "execute_result"
    }
   ],
   "source": [
    "behaviorData[behaviorData.isnull()].count()"
   ]
  },
  {
   "cell_type": "code",
   "execution_count": 443,
   "metadata": {},
   "outputs": [
    {
     "data": {
      "text/html": [
       "<div>\n",
       "<style>\n",
       "    .dataframe thead tr:only-child th {\n",
       "        text-align: right;\n",
       "    }\n",
       "\n",
       "    .dataframe thead th {\n",
       "        text-align: left;\n",
       "    }\n",
       "\n",
       "    .dataframe tbody tr th {\n",
       "        vertical-align: top;\n",
       "    }\n",
       "</style>\n",
       "<table border=\"1\" class=\"dataframe\">\n",
       "  <thead>\n",
       "    <tr style=\"text-align: right;\">\n",
       "      <th></th>\n",
       "      <th>revenue</th>\n",
       "      <th>countOfProducts</th>\n",
       "      <th>custno</th>\n",
       "      <th>date</th>\n",
       "    </tr>\n",
       "    <tr>\n",
       "      <th>session</th>\n",
       "      <th></th>\n",
       "      <th></th>\n",
       "      <th></th>\n",
       "      <th></th>\n",
       "    </tr>\n",
       "  </thead>\n",
       "  <tbody>\n",
       "    <tr>\n",
       "      <th>2379149.0</th>\n",
       "      <td>665.35</td>\n",
       "      <td>0</td>\n",
       "      <td>7</td>\n",
       "      <td>2016-04-25</td>\n",
       "    </tr>\n",
       "    <tr>\n",
       "      <th>3446701.0</th>\n",
       "      <td>111.49</td>\n",
       "      <td>0</td>\n",
       "      <td>8</td>\n",
       "      <td>2017-12-27</td>\n",
       "    </tr>\n",
       "    <tr>\n",
       "      <th>2333771.0</th>\n",
       "      <td>152.85</td>\n",
       "      <td>0</td>\n",
       "      <td>8</td>\n",
       "      <td>2017-09-12</td>\n",
       "    </tr>\n",
       "    <tr>\n",
       "      <th>3632314.0</th>\n",
       "      <td>176.00</td>\n",
       "      <td>1</td>\n",
       "      <td>8</td>\n",
       "      <td>2016-12-11</td>\n",
       "    </tr>\n",
       "    <tr>\n",
       "      <th>3676780.0</th>\n",
       "      <td>179.03</td>\n",
       "      <td>0</td>\n",
       "      <td>8</td>\n",
       "      <td>2016-12-13</td>\n",
       "    </tr>\n",
       "  </tbody>\n",
       "</table>\n",
       "</div>"
      ],
      "text/plain": [
       "           revenue  countOfProducts  custno       date\n",
       "session                                               \n",
       "2379149.0   665.35                0       7 2016-04-25\n",
       "3446701.0   111.49                0       8 2017-12-27\n",
       "2333771.0   152.85                0       8 2017-09-12\n",
       "3632314.0   176.00                1       8 2016-12-11\n",
       "3676780.0   179.03                0       8 2016-12-13"
      ]
     },
     "execution_count": 443,
     "metadata": {},
     "output_type": "execute_result"
    }
   ],
   "source": [
    "behaviorData.head()"
   ]
  },
  {
   "cell_type": "code",
   "execution_count": 444,
   "metadata": {
    "collapsed": true
   },
   "outputs": [],
   "source": [
    "behaviorData = behaviorData.reset_index()"
   ]
  },
  {
   "cell_type": "code",
   "execution_count": 445,
   "metadata": {},
   "outputs": [
    {
     "data": {
      "text/html": [
       "<div>\n",
       "<style>\n",
       "    .dataframe thead tr:only-child th {\n",
       "        text-align: right;\n",
       "    }\n",
       "\n",
       "    .dataframe thead th {\n",
       "        text-align: left;\n",
       "    }\n",
       "\n",
       "    .dataframe tbody tr th {\n",
       "        vertical-align: top;\n",
       "    }\n",
       "</style>\n",
       "<table border=\"1\" class=\"dataframe\">\n",
       "  <thead>\n",
       "    <tr style=\"text-align: right;\">\n",
       "      <th></th>\n",
       "      <th>session</th>\n",
       "      <th>revenue</th>\n",
       "      <th>countOfProducts</th>\n",
       "      <th>custno</th>\n",
       "      <th>date</th>\n",
       "    </tr>\n",
       "  </thead>\n",
       "  <tbody>\n",
       "    <tr>\n",
       "      <th>0</th>\n",
       "      <td>2379149.0</td>\n",
       "      <td>665.35</td>\n",
       "      <td>0</td>\n",
       "      <td>7</td>\n",
       "      <td>2016-04-25</td>\n",
       "    </tr>\n",
       "    <tr>\n",
       "      <th>1</th>\n",
       "      <td>3446701.0</td>\n",
       "      <td>111.49</td>\n",
       "      <td>0</td>\n",
       "      <td>8</td>\n",
       "      <td>2017-12-27</td>\n",
       "    </tr>\n",
       "    <tr>\n",
       "      <th>2</th>\n",
       "      <td>2333771.0</td>\n",
       "      <td>152.85</td>\n",
       "      <td>0</td>\n",
       "      <td>8</td>\n",
       "      <td>2017-09-12</td>\n",
       "    </tr>\n",
       "    <tr>\n",
       "      <th>3</th>\n",
       "      <td>3632314.0</td>\n",
       "      <td>176.00</td>\n",
       "      <td>1</td>\n",
       "      <td>8</td>\n",
       "      <td>2016-12-11</td>\n",
       "    </tr>\n",
       "    <tr>\n",
       "      <th>4</th>\n",
       "      <td>3676780.0</td>\n",
       "      <td>179.03</td>\n",
       "      <td>0</td>\n",
       "      <td>8</td>\n",
       "      <td>2016-12-13</td>\n",
       "    </tr>\n",
       "  </tbody>\n",
       "</table>\n",
       "</div>"
      ],
      "text/plain": [
       "     session  revenue  countOfProducts  custno       date\n",
       "0  2379149.0   665.35                0       7 2016-04-25\n",
       "1  3446701.0   111.49                0       8 2017-12-27\n",
       "2  2333771.0   152.85                0       8 2017-09-12\n",
       "3  3632314.0   176.00                1       8 2016-12-11\n",
       "4  3676780.0   179.03                0       8 2016-12-13"
      ]
     },
     "execution_count": 445,
     "metadata": {},
     "output_type": "execute_result"
    }
   ],
   "source": [
    "behaviorData.head()"
   ]
  },
  {
   "cell_type": "code",
   "execution_count": 446,
   "metadata": {},
   "outputs": [
    {
     "data": {
      "image/png": "[encoded data removed]",
      "text/plain": [
       "<matplotlib.figure.Figure at 0x22ed3b99f60>"
      ]
     },
     "metadata": {},
     "output_type": "display_data"
    }
   ],
   "source": [
    "behaviorData.revenue.hist(bins= 50)\n",
    "plt.show()"
   ]
  },
  {
   "cell_type": "code",
   "execution_count": 447,
   "metadata": {},
   "outputs": [
    {
     "data": {
      "image/png": "[encoded data removed]",
      "text/plain": [
       "<matplotlib.figure.Figure at 0x22e85a4dd30>"
      ]
     },
     "metadata": {},
     "output_type": "display_data"
    }
   ],
   "source": [
    "temp = behaviorData.groupby(['countOfProducts']).count()\n",
    "plt.bar(temp.index, temp.session, width = 0.6)\n",
    "plt.show()"
   ]
  },
  {
   "cell_type": "markdown",
   "metadata": {},
   "source": [
    "-----"
   ]
  },
  {
   "cell_type": "markdown",
   "metadata": {},
   "source": [
    "# Feature engineering and Feature selection"
   ]
  },
  {
   "cell_type": "markdown",
   "metadata": {},
   "source": [
    "\n",
    "    \n",
    "    Recency rating\n",
    "    \n",
    "    3 -> 0   - 239   days\n",
    "    2 -> 240 - 479   days\n",
    "    1 -> 480 - above days\n",
    "    \n",
    "    Frequency rating\n",
    "    \n",
    "    3 -> 21 - above  Sessions\n",
    "    2 -> 11 - 20     Sessions\n",
    "    1 -> 1  - 10     Sessions\n",
    "    \n",
    "    Monetary rating\n",
    "    \n",
    "    3 -> 200 - above Revenue\n",
    "    2 -> 79  - 199   Revenue\n",
    "    1 -> 0   - 78    Revenue\n",
    "    \n",
    "\n",
    "    Note: It is a batch learning process so we need to calibrate the metrics after a certian time."
   ]
  },
  {
   "cell_type": "code",
   "execution_count": 199,
   "metadata": {
    "collapsed": true
   },
   "outputs": [],
   "source": [
    "RFMData = pd.DataFrame(behaviorData['custno'].unique())"
   ]
  },
  {
   "cell_type": "code",
   "execution_count": 200,
   "metadata": {},
   "outputs": [
    {
     "data": {
      "text/html": [
       "<div>\n",
       "<style>\n",
       "    .dataframe thead tr:only-child th {\n",
       "        text-align: right;\n",
       "    }\n",
       "\n",
       "    .dataframe thead th {\n",
       "        text-align: left;\n",
       "    }\n",
       "\n",
       "    .dataframe tbody tr th {\n",
       "        vertical-align: top;\n",
       "    }\n",
       "</style>\n",
       "<table border=\"1\" class=\"dataframe\">\n",
       "  <thead>\n",
       "    <tr style=\"text-align: right;\">\n",
       "      <th></th>\n",
       "      <th>0</th>\n",
       "    </tr>\n",
       "  </thead>\n",
       "  <tbody>\n",
       "    <tr>\n",
       "      <th>0</th>\n",
       "      <td>8</td>\n",
       "    </tr>\n",
       "    <tr>\n",
       "      <th>1</th>\n",
       "      <td>9</td>\n",
       "    </tr>\n",
       "    <tr>\n",
       "      <th>2</th>\n",
       "      <td>11</td>\n",
       "    </tr>\n",
       "    <tr>\n",
       "      <th>3</th>\n",
       "      <td>15</td>\n",
       "    </tr>\n",
       "    <tr>\n",
       "      <th>4</th>\n",
       "      <td>17</td>\n",
       "    </tr>\n",
       "  </tbody>\n",
       "</table>\n",
       "</div>"
      ],
      "text/plain": [
       "    0\n",
       "0   8\n",
       "1   9\n",
       "2  11\n",
       "3  15\n",
       "4  17"
      ]
     },
     "execution_count": 200,
     "metadata": {},
     "output_type": "execute_result"
    }
   ],
   "source": [
    "RFMData.head()"
   ]
  },
  {
   "cell_type": "code",
   "execution_count": 201,
   "metadata": {
    "collapsed": true
   },
   "outputs": [],
   "source": [
    "RFMData.columns = ['custno']"
   ]
  },
  {
   "cell_type": "code",
   "execution_count": 202,
   "metadata": {
    "collapsed": true
   },
   "outputs": [],
   "source": [
    "RFMData.index = RFMData.custno"
   ]
  },
  {
   "cell_type": "code",
   "execution_count": 203,
   "metadata": {},
   "outputs": [
    {
     "data": {
      "text/html": [
       "<div>\n",
       "<style>\n",
       "    .dataframe thead tr:only-child th {\n",
       "        text-align: right;\n",
       "    }\n",
       "\n",
       "    .dataframe thead th {\n",
       "        text-align: left;\n",
       "    }\n",
       "\n",
       "    .dataframe tbody tr th {\n",
       "        vertical-align: top;\n",
       "    }\n",
       "</style>\n",
       "<table border=\"1\" class=\"dataframe\">\n",
       "  <thead>\n",
       "    <tr style=\"text-align: right;\">\n",
       "      <th></th>\n",
       "      <th>custno</th>\n",
       "    </tr>\n",
       "    <tr>\n",
       "      <th>custno</th>\n",
       "      <th></th>\n",
       "    </tr>\n",
       "  </thead>\n",
       "  <tbody>\n",
       "    <tr>\n",
       "      <th>8</th>\n",
       "      <td>8</td>\n",
       "    </tr>\n",
       "    <tr>\n",
       "      <th>9</th>\n",
       "      <td>9</td>\n",
       "    </tr>\n",
       "    <tr>\n",
       "      <th>11</th>\n",
       "      <td>11</td>\n",
       "    </tr>\n",
       "    <tr>\n",
       "      <th>15</th>\n",
       "      <td>15</td>\n",
       "    </tr>\n",
       "    <tr>\n",
       "      <th>17</th>\n",
       "      <td>17</td>\n",
       "    </tr>\n",
       "  </tbody>\n",
       "</table>\n",
       "</div>"
      ],
      "text/plain": [
       "        custno\n",
       "custno        \n",
       "8            8\n",
       "9            9\n",
       "11          11\n",
       "15          15\n",
       "17          17"
      ]
     },
     "execution_count": 203,
     "metadata": {},
     "output_type": "execute_result"
    }
   ],
   "source": [
    "RFMData.head()"
   ]
  },
  {
   "cell_type": "markdown",
   "metadata": {},
   "source": [
    "###  Monetary"
   ]
  },
  {
   "cell_type": "code",
   "execution_count": 204,
   "metadata": {
    "collapsed": true
   },
   "outputs": [],
   "source": [
    "temp = behaviorData.groupby(['custno']).mean()"
   ]
  },
  {
   "cell_type": "code",
   "execution_count": 205,
   "metadata": {},
   "outputs": [
    {
     "data": {
      "text/html": [
       "<div>\n",
       "<style>\n",
       "    .dataframe thead tr:only-child th {\n",
       "        text-align: right;\n",
       "    }\n",
       "\n",
       "    .dataframe thead th {\n",
       "        text-align: left;\n",
       "    }\n",
       "\n",
       "    .dataframe tbody tr th {\n",
       "        vertical-align: top;\n",
       "    }\n",
       "</style>\n",
       "<table border=\"1\" class=\"dataframe\">\n",
       "  <thead>\n",
       "    <tr style=\"text-align: right;\">\n",
       "      <th></th>\n",
       "      <th>session</th>\n",
       "      <th>revenue</th>\n",
       "      <th>countOfProducts</th>\n",
       "    </tr>\n",
       "    <tr>\n",
       "      <th>custno</th>\n",
       "      <th></th>\n",
       "      <th></th>\n",
       "      <th></th>\n",
       "    </tr>\n",
       "  </thead>\n",
       "  <tbody>\n",
       "    <tr>\n",
       "      <th>8</th>\n",
       "      <td>2.220996e+06</td>\n",
       "      <td>207.73500</td>\n",
       "      <td>3.000000</td>\n",
       "    </tr>\n",
       "    <tr>\n",
       "      <th>9</th>\n",
       "      <td>2.155525e+06</td>\n",
       "      <td>217.47375</td>\n",
       "      <td>2.500000</td>\n",
       "    </tr>\n",
       "    <tr>\n",
       "      <th>11</th>\n",
       "      <td>2.351018e+06</td>\n",
       "      <td>97.67500</td>\n",
       "      <td>1.166667</td>\n",
       "    </tr>\n",
       "    <tr>\n",
       "      <th>15</th>\n",
       "      <td>3.478851e+06</td>\n",
       "      <td>68.42000</td>\n",
       "      <td>2.000000</td>\n",
       "    </tr>\n",
       "    <tr>\n",
       "      <th>17</th>\n",
       "      <td>8.579700e+05</td>\n",
       "      <td>190.04000</td>\n",
       "      <td>3.250000</td>\n",
       "    </tr>\n",
       "  </tbody>\n",
       "</table>\n",
       "</div>"
      ],
      "text/plain": [
       "             session    revenue  countOfProducts\n",
       "custno                                          \n",
       "8       2.220996e+06  207.73500         3.000000\n",
       "9       2.155525e+06  217.47375         2.500000\n",
       "11      2.351018e+06   97.67500         1.166667\n",
       "15      3.478851e+06   68.42000         2.000000\n",
       "17      8.579700e+05  190.04000         3.250000"
      ]
     },
     "execution_count": 205,
     "metadata": {},
     "output_type": "execute_result"
    }
   ],
   "source": [
    "temp.head()"
   ]
  },
  {
   "cell_type": "code",
   "execution_count": 206,
   "metadata": {},
   "outputs": [
    {
     "data": {
      "text/html": [
       "<div>\n",
       "<style>\n",
       "    .dataframe thead tr:only-child th {\n",
       "        text-align: right;\n",
       "    }\n",
       "\n",
       "    .dataframe thead th {\n",
       "        text-align: left;\n",
       "    }\n",
       "\n",
       "    .dataframe tbody tr th {\n",
       "        vertical-align: top;\n",
       "    }\n",
       "</style>\n",
       "<table border=\"1\" class=\"dataframe\">\n",
       "  <thead>\n",
       "    <tr style=\"text-align: right;\">\n",
       "      <th></th>\n",
       "      <th>session</th>\n",
       "      <th>revenue</th>\n",
       "      <th>countOfProducts</th>\n",
       "      <th>custno</th>\n",
       "      <th>date</th>\n",
       "    </tr>\n",
       "    <tr>\n",
       "      <th>session</th>\n",
       "      <th></th>\n",
       "      <th></th>\n",
       "      <th></th>\n",
       "      <th></th>\n",
       "      <th></th>\n",
       "    </tr>\n",
       "  </thead>\n",
       "  <tbody>\n",
       "    <tr>\n",
       "      <th>809678.0</th>\n",
       "      <td>809678.0</td>\n",
       "      <td>327.47</td>\n",
       "      <td>5</td>\n",
       "      <td>8</td>\n",
       "      <td>2017-03-29</td>\n",
       "    </tr>\n",
       "    <tr>\n",
       "      <th>3632314.0</th>\n",
       "      <td>3632314.0</td>\n",
       "      <td>88.00</td>\n",
       "      <td>1</td>\n",
       "      <td>8</td>\n",
       "      <td>2016-12-11</td>\n",
       "    </tr>\n",
       "    <tr>\n",
       "      <th>3189010.0</th>\n",
       "      <td>3189010.0</td>\n",
       "      <td>208.86</td>\n",
       "      <td>4</td>\n",
       "      <td>9</td>\n",
       "      <td>2016-05-20</td>\n",
       "    </tr>\n",
       "    <tr>\n",
       "      <th>842759.0</th>\n",
       "      <td>842759.0</td>\n",
       "      <td>809.36</td>\n",
       "      <td>6</td>\n",
       "      <td>9</td>\n",
       "      <td>2016-05-21</td>\n",
       "    </tr>\n",
       "    <tr>\n",
       "      <th>3467201.0</th>\n",
       "      <td>3467201.0</td>\n",
       "      <td>129.58</td>\n",
       "      <td>2</td>\n",
       "      <td>9</td>\n",
       "      <td>2017-10-29</td>\n",
       "    </tr>\n",
       "  </tbody>\n",
       "</table>\n",
       "</div>"
      ],
      "text/plain": [
       "             session  revenue  countOfProducts  custno       date\n",
       "session                                                          \n",
       "809678.0    809678.0   327.47                5       8 2017-03-29\n",
       "3632314.0  3632314.0    88.00                1       8 2016-12-11\n",
       "3189010.0  3189010.0   208.86                4       9 2016-05-20\n",
       "842759.0    842759.0   809.36                6       9 2016-05-21\n",
       "3467201.0  3467201.0   129.58                2       9 2017-10-29"
      ]
     },
     "execution_count": 206,
     "metadata": {},
     "output_type": "execute_result"
    }
   ],
   "source": [
    "behaviorData.head()"
   ]
  },
  {
   "cell_type": "code",
   "execution_count": 207,
   "metadata": {
    "collapsed": true
   },
   "outputs": [],
   "source": [
    "RFMData['avgSpending'] = temp['revenue']"
   ]
  },
  {
   "cell_type": "code",
   "execution_count": 208,
   "metadata": {},
   "outputs": [
    {
     "data": {
      "text/html": [
       "<div>\n",
       "<style>\n",
       "    .dataframe thead tr:only-child th {\n",
       "        text-align: right;\n",
       "    }\n",
       "\n",
       "    .dataframe thead th {\n",
       "        text-align: left;\n",
       "    }\n",
       "\n",
       "    .dataframe tbody tr th {\n",
       "        vertical-align: top;\n",
       "    }\n",
       "</style>\n",
       "<table border=\"1\" class=\"dataframe\">\n",
       "  <thead>\n",
       "    <tr style=\"text-align: right;\">\n",
       "      <th></th>\n",
       "      <th>custno</th>\n",
       "      <th>avgSpending</th>\n",
       "    </tr>\n",
       "    <tr>\n",
       "      <th>custno</th>\n",
       "      <th></th>\n",
       "      <th></th>\n",
       "    </tr>\n",
       "  </thead>\n",
       "  <tbody>\n",
       "    <tr>\n",
       "      <th>8</th>\n",
       "      <td>8</td>\n",
       "      <td>207.73500</td>\n",
       "    </tr>\n",
       "    <tr>\n",
       "      <th>9</th>\n",
       "      <td>9</td>\n",
       "      <td>217.47375</td>\n",
       "    </tr>\n",
       "    <tr>\n",
       "      <th>11</th>\n",
       "      <td>11</td>\n",
       "      <td>97.67500</td>\n",
       "    </tr>\n",
       "    <tr>\n",
       "      <th>15</th>\n",
       "      <td>15</td>\n",
       "      <td>68.42000</td>\n",
       "    </tr>\n",
       "    <tr>\n",
       "      <th>17</th>\n",
       "      <td>17</td>\n",
       "      <td>190.04000</td>\n",
       "    </tr>\n",
       "  </tbody>\n",
       "</table>\n",
       "</div>"
      ],
      "text/plain": [
       "        custno  avgSpending\n",
       "custno                     \n",
       "8            8    207.73500\n",
       "9            9    217.47375\n",
       "11          11     97.67500\n",
       "15          15     68.42000\n",
       "17          17    190.04000"
      ]
     },
     "execution_count": 208,
     "metadata": {},
     "output_type": "execute_result"
    }
   ],
   "source": [
    "RFMData.head()"
   ]
  },
  {
   "cell_type": "markdown",
   "metadata": {},
   "source": [
    "#### Frequency"
   ]
  },
  {
   "cell_type": "code",
   "execution_count": 209,
   "metadata": {
    "collapsed": true
   },
   "outputs": [],
   "source": [
    "temp = behaviorData.groupby(['custno']).count()"
   ]
  },
  {
   "cell_type": "code",
   "execution_count": 210,
   "metadata": {},
   "outputs": [
    {
     "data": {
      "text/html": [
       "<div>\n",
       "<style>\n",
       "    .dataframe thead tr:only-child th {\n",
       "        text-align: right;\n",
       "    }\n",
       "\n",
       "    .dataframe thead th {\n",
       "        text-align: left;\n",
       "    }\n",
       "\n",
       "    .dataframe tbody tr th {\n",
       "        vertical-align: top;\n",
       "    }\n",
       "</style>\n",
       "<table border=\"1\" class=\"dataframe\">\n",
       "  <thead>\n",
       "    <tr style=\"text-align: right;\">\n",
       "      <th></th>\n",
       "      <th>session</th>\n",
       "      <th>revenue</th>\n",
       "      <th>countOfProducts</th>\n",
       "      <th>date</th>\n",
       "    </tr>\n",
       "    <tr>\n",
       "      <th>custno</th>\n",
       "      <th></th>\n",
       "      <th></th>\n",
       "      <th></th>\n",
       "      <th></th>\n",
       "    </tr>\n",
       "  </thead>\n",
       "  <tbody>\n",
       "    <tr>\n",
       "      <th>8</th>\n",
       "      <td>2</td>\n",
       "      <td>2</td>\n",
       "      <td>2</td>\n",
       "      <td>2</td>\n",
       "    </tr>\n",
       "    <tr>\n",
       "      <th>9</th>\n",
       "      <td>8</td>\n",
       "      <td>8</td>\n",
       "      <td>8</td>\n",
       "      <td>8</td>\n",
       "    </tr>\n",
       "    <tr>\n",
       "      <th>11</th>\n",
       "      <td>6</td>\n",
       "      <td>6</td>\n",
       "      <td>6</td>\n",
       "      <td>6</td>\n",
       "    </tr>\n",
       "    <tr>\n",
       "      <th>15</th>\n",
       "      <td>1</td>\n",
       "      <td>1</td>\n",
       "      <td>1</td>\n",
       "      <td>1</td>\n",
       "    </tr>\n",
       "    <tr>\n",
       "      <th>17</th>\n",
       "      <td>4</td>\n",
       "      <td>4</td>\n",
       "      <td>4</td>\n",
       "      <td>4</td>\n",
       "    </tr>\n",
       "  </tbody>\n",
       "</table>\n",
       "</div>"
      ],
      "text/plain": [
       "        session  revenue  countOfProducts  date\n",
       "custno                                         \n",
       "8             2        2                2     2\n",
       "9             8        8                8     8\n",
       "11            6        6                6     6\n",
       "15            1        1                1     1\n",
       "17            4        4                4     4"
      ]
     },
     "execution_count": 210,
     "metadata": {},
     "output_type": "execute_result"
    }
   ],
   "source": [
    "temp.head()"
   ]
  },
  {
   "cell_type": "code",
   "execution_count": 211,
   "metadata": {
    "collapsed": true
   },
   "outputs": [],
   "source": [
    "RFMData['frequencyOfPurchase'] = temp['session']"
   ]
  },
  {
   "cell_type": "code",
   "execution_count": 212,
   "metadata": {},
   "outputs": [
    {
     "data": {
      "text/html": [
       "<div>\n",
       "<style>\n",
       "    .dataframe thead tr:only-child th {\n",
       "        text-align: right;\n",
       "    }\n",
       "\n",
       "    .dataframe thead th {\n",
       "        text-align: left;\n",
       "    }\n",
       "\n",
       "    .dataframe tbody tr th {\n",
       "        vertical-align: top;\n",
       "    }\n",
       "</style>\n",
       "<table border=\"1\" class=\"dataframe\">\n",
       "  <thead>\n",
       "    <tr style=\"text-align: right;\">\n",
       "      <th></th>\n",
       "      <th>custno</th>\n",
       "      <th>avgSpending</th>\n",
       "      <th>frequencyOfPurchase</th>\n",
       "    </tr>\n",
       "    <tr>\n",
       "      <th>custno</th>\n",
       "      <th></th>\n",
       "      <th></th>\n",
       "      <th></th>\n",
       "    </tr>\n",
       "  </thead>\n",
       "  <tbody>\n",
       "    <tr>\n",
       "      <th>8</th>\n",
       "      <td>8</td>\n",
       "      <td>207.73500</td>\n",
       "      <td>2</td>\n",
       "    </tr>\n",
       "    <tr>\n",
       "      <th>9</th>\n",
       "      <td>9</td>\n",
       "      <td>217.47375</td>\n",
       "      <td>8</td>\n",
       "    </tr>\n",
       "    <tr>\n",
       "      <th>11</th>\n",
       "      <td>11</td>\n",
       "      <td>97.67500</td>\n",
       "      <td>6</td>\n",
       "    </tr>\n",
       "    <tr>\n",
       "      <th>15</th>\n",
       "      <td>15</td>\n",
       "      <td>68.42000</td>\n",
       "      <td>1</td>\n",
       "    </tr>\n",
       "    <tr>\n",
       "      <th>17</th>\n",
       "      <td>17</td>\n",
       "      <td>190.04000</td>\n",
       "      <td>4</td>\n",
       "    </tr>\n",
       "  </tbody>\n",
       "</table>\n",
       "</div>"
      ],
      "text/plain": [
       "        custno  avgSpending  frequencyOfPurchase\n",
       "custno                                          \n",
       "8            8    207.73500                    2\n",
       "9            9    217.47375                    8\n",
       "11          11     97.67500                    6\n",
       "15          15     68.42000                    1\n",
       "17          17    190.04000                    4"
      ]
     },
     "execution_count": 212,
     "metadata": {},
     "output_type": "execute_result"
    }
   ],
   "source": [
    "RFMData.head()"
   ]
  },
  {
   "cell_type": "markdown",
   "metadata": {},
   "source": [
    "### Recency"
   ]
  },
  {
   "cell_type": "code",
   "execution_count": 213,
   "metadata": {},
   "outputs": [
    {
     "data": {
      "text/html": [
       "<div>\n",
       "<style>\n",
       "    .dataframe thead tr:only-child th {\n",
       "        text-align: right;\n",
       "    }\n",
       "\n",
       "    .dataframe thead th {\n",
       "        text-align: left;\n",
       "    }\n",
       "\n",
       "    .dataframe tbody tr th {\n",
       "        vertical-align: top;\n",
       "    }\n",
       "</style>\n",
       "<table border=\"1\" class=\"dataframe\">\n",
       "  <thead>\n",
       "    <tr style=\"text-align: right;\">\n",
       "      <th></th>\n",
       "      <th>session</th>\n",
       "      <th>revenue</th>\n",
       "      <th>countOfProducts</th>\n",
       "      <th>custno</th>\n",
       "      <th>date</th>\n",
       "    </tr>\n",
       "    <tr>\n",
       "      <th>session</th>\n",
       "      <th></th>\n",
       "      <th></th>\n",
       "      <th></th>\n",
       "      <th></th>\n",
       "      <th></th>\n",
       "    </tr>\n",
       "  </thead>\n",
       "  <tbody>\n",
       "    <tr>\n",
       "      <th>809678.0</th>\n",
       "      <td>809678.0</td>\n",
       "      <td>327.47</td>\n",
       "      <td>5</td>\n",
       "      <td>8</td>\n",
       "      <td>2017-03-29</td>\n",
       "    </tr>\n",
       "    <tr>\n",
       "      <th>3632314.0</th>\n",
       "      <td>3632314.0</td>\n",
       "      <td>88.00</td>\n",
       "      <td>1</td>\n",
       "      <td>8</td>\n",
       "      <td>2016-12-11</td>\n",
       "    </tr>\n",
       "    <tr>\n",
       "      <th>3189010.0</th>\n",
       "      <td>3189010.0</td>\n",
       "      <td>208.86</td>\n",
       "      <td>4</td>\n",
       "      <td>9</td>\n",
       "      <td>2016-05-20</td>\n",
       "    </tr>\n",
       "    <tr>\n",
       "      <th>842759.0</th>\n",
       "      <td>842759.0</td>\n",
       "      <td>809.36</td>\n",
       "      <td>6</td>\n",
       "      <td>9</td>\n",
       "      <td>2016-05-21</td>\n",
       "    </tr>\n",
       "    <tr>\n",
       "      <th>3467201.0</th>\n",
       "      <td>3467201.0</td>\n",
       "      <td>129.58</td>\n",
       "      <td>2</td>\n",
       "      <td>9</td>\n",
       "      <td>2017-10-29</td>\n",
       "    </tr>\n",
       "  </tbody>\n",
       "</table>\n",
       "</div>"
      ],
      "text/plain": [
       "             session  revenue  countOfProducts  custno       date\n",
       "session                                                          \n",
       "809678.0    809678.0   327.47                5       8 2017-03-29\n",
       "3632314.0  3632314.0    88.00                1       8 2016-12-11\n",
       "3189010.0  3189010.0   208.86                4       9 2016-05-20\n",
       "842759.0    842759.0   809.36                6       9 2016-05-21\n",
       "3467201.0  3467201.0   129.58                2       9 2017-10-29"
      ]
     },
     "execution_count": 213,
     "metadata": {},
     "output_type": "execute_result"
    }
   ],
   "source": [
    "behaviorData.head()"
   ]
  },
  {
   "cell_type": "code",
   "execution_count": 214,
   "metadata": {
    "collapsed": true
   },
   "outputs": [],
   "source": [
    "def countNoOfDays(date):\n",
    "    latestDate = max(behaviorData['date'])\n",
    "    diff = latestDate - date\n",
    "    return diff.days"
   ]
  },
  {
   "cell_type": "code",
   "execution_count": 215,
   "metadata": {},
   "outputs": [],
   "source": [
    "temp = behaviorData.groupby(['custno']).max()"
   ]
  },
  {
   "cell_type": "code",
   "execution_count": 216,
   "metadata": {},
   "outputs": [],
   "source": [
    "behaviorData.index = behaviorData.session"
   ]
  },
  {
   "cell_type": "code",
   "execution_count": 217,
   "metadata": {},
   "outputs": [],
   "source": [
    "RFMData['lastPurchase'] = temp['date'].apply(lambda x: countNoOfDays(x))"
   ]
  },
  {
   "cell_type": "code",
   "execution_count": 218,
   "metadata": {},
   "outputs": [
    {
     "data": {
      "text/html": [
       "<div>\n",
       "<style>\n",
       "    .dataframe thead tr:only-child th {\n",
       "        text-align: right;\n",
       "    }\n",
       "\n",
       "    .dataframe thead th {\n",
       "        text-align: left;\n",
       "    }\n",
       "\n",
       "    .dataframe tbody tr th {\n",
       "        vertical-align: top;\n",
       "    }\n",
       "</style>\n",
       "<table border=\"1\" class=\"dataframe\">\n",
       "  <thead>\n",
       "    <tr style=\"text-align: right;\">\n",
       "      <th></th>\n",
       "      <th>custno</th>\n",
       "      <th>avgSpending</th>\n",
       "      <th>frequencyOfPurchase</th>\n",
       "      <th>lastPurchase</th>\n",
       "    </tr>\n",
       "    <tr>\n",
       "      <th>custno</th>\n",
       "      <th></th>\n",
       "      <th></th>\n",
       "      <th></th>\n",
       "      <th></th>\n",
       "    </tr>\n",
       "  </thead>\n",
       "  <tbody>\n",
       "    <tr>\n",
       "      <th>8</th>\n",
       "      <td>8</td>\n",
       "      <td>207.73500</td>\n",
       "      <td>2</td>\n",
       "      <td>277</td>\n",
       "    </tr>\n",
       "    <tr>\n",
       "      <th>9</th>\n",
       "      <td>9</td>\n",
       "      <td>217.47375</td>\n",
       "      <td>8</td>\n",
       "      <td>63</td>\n",
       "    </tr>\n",
       "    <tr>\n",
       "      <th>11</th>\n",
       "      <td>11</td>\n",
       "      <td>97.67500</td>\n",
       "      <td>6</td>\n",
       "      <td>32</td>\n",
       "    </tr>\n",
       "    <tr>\n",
       "      <th>15</th>\n",
       "      <td>15</td>\n",
       "      <td>68.42000</td>\n",
       "      <td>1</td>\n",
       "      <td>617</td>\n",
       "    </tr>\n",
       "    <tr>\n",
       "      <th>17</th>\n",
       "      <td>17</td>\n",
       "      <td>190.04000</td>\n",
       "      <td>4</td>\n",
       "      <td>20</td>\n",
       "    </tr>\n",
       "  </tbody>\n",
       "</table>\n",
       "</div>"
      ],
      "text/plain": [
       "        custno  avgSpending  frequencyOfPurchase  lastPurchase\n",
       "custno                                                        \n",
       "8            8    207.73500                    2           277\n",
       "9            9    217.47375                    8            63\n",
       "11          11     97.67500                    6            32\n",
       "15          15     68.42000                    1           617\n",
       "17          17    190.04000                    4            20"
      ]
     },
     "execution_count": 218,
     "metadata": {},
     "output_type": "execute_result"
    }
   ],
   "source": [
    "RFMData.head()"
   ]
  },
  {
   "cell_type": "markdown",
   "metadata": {},
   "source": [
    "### Customer persona"
   ]
  },
  {
   "cell_type": "code",
   "execution_count": 219,
   "metadata": {},
   "outputs": [
    {
     "data": {
      "image/png": "[encoded data removed]",
      "text/plain": [
       "<matplotlib.figure.Figure at 0x22ee20f67f0>"
      ]
     },
     "metadata": {},
     "output_type": "display_data"
    }
   ],
   "source": [
    "RFMData.avgSpending.hist(bins= 40)\n",
    "plt.show()"
   ]
  },
  {
   "cell_type": "code",
   "execution_count": 448,
   "metadata": {},
   "outputs": [
    {
     "data": {
      "image/png": "[encoded data removed]",
      "text/plain": [
       "<matplotlib.figure.Figure at 0x22ed3b94fd0>"
      ]
     },
     "metadata": {},
     "output_type": "display_data"
    },
    {
     "data": {
      "text/plain": [
       "count    10323.00000\n",
       "mean       154.38965\n",
       "std        119.63580\n",
       "min          0.03000\n",
       "25%         78.67000\n",
       "50%        129.06500\n",
       "75%        199.88500\n",
       "max       1718.97000\n",
       "Name: avgSpending, dtype: float64"
      ]
     },
     "execution_count": 448,
     "metadata": {},
     "output_type": "execute_result"
    }
   ],
   "source": [
    "plt.boxplot(RFMData.avgSpending)\n",
    "plt.show()\n",
    "RFMData.avgSpending.describe()"
   ]
  },
  {
   "cell_type": "code",
   "execution_count": 222,
   "metadata": {
    "collapsed": true
   },
   "outputs": [],
   "source": [
    "def recency(x):\n",
    "    if(x >= 0 and x < 240):\n",
    "        return 3\n",
    "    elif(x >= 240 and x < 480):\n",
    "        return 2\n",
    "    else:\n",
    "        return 1"
   ]
  },
  {
   "cell_type": "code",
   "execution_count": 223,
   "metadata": {
    "collapsed": true
   },
   "outputs": [],
   "source": [
    "def frequency(x):\n",
    "    if(x >= 0 and x <= 10):\n",
    "        return 1\n",
    "    elif(x >= 11 and x < 20):\n",
    "        return 2\n",
    "    else:\n",
    "        return 3"
   ]
  },
  {
   "cell_type": "code",
   "execution_count": 224,
   "metadata": {
    "collapsed": true
   },
   "outputs": [],
   "source": [
    "def monetary(x):\n",
    "    if(x >= 0 and x < 78):\n",
    "        return 1\n",
    "    elif(x >= 78 and x < 199):\n",
    "        return 2\n",
    "    else:\n",
    "        return 3"
   ]
  },
  {
   "cell_type": "code",
   "execution_count": 225,
   "metadata": {},
   "outputs": [],
   "source": [
    "RFMData['recency'] = RFMData.lastPurchase.apply(lambda x : recency(x))"
   ]
  },
  {
   "cell_type": "code",
   "execution_count": 226,
   "metadata": {
    "collapsed": true
   },
   "outputs": [],
   "source": [
    "RFMData['frequency'] = RFMData.frequencyOfPurchase.apply(lambda x : frequency(x))"
   ]
  },
  {
   "cell_type": "code",
   "execution_count": 227,
   "metadata": {
    "collapsed": true
   },
   "outputs": [],
   "source": [
    "RFMData['monetary'] = RFMData.avgSpending.apply(lambda x: monetary(x))"
   ]
  },
  {
   "cell_type": "code",
   "execution_count": 228,
   "metadata": {},
   "outputs": [
    {
     "data": {
      "text/html": [
       "<div>\n",
       "<style>\n",
       "    .dataframe thead tr:only-child th {\n",
       "        text-align: right;\n",
       "    }\n",
       "\n",
       "    .dataframe thead th {\n",
       "        text-align: left;\n",
       "    }\n",
       "\n",
       "    .dataframe tbody tr th {\n",
       "        vertical-align: top;\n",
       "    }\n",
       "</style>\n",
       "<table border=\"1\" class=\"dataframe\">\n",
       "  <thead>\n",
       "    <tr style=\"text-align: right;\">\n",
       "      <th></th>\n",
       "      <th>custno</th>\n",
       "      <th>avgSpending</th>\n",
       "      <th>frequencyOfPurchase</th>\n",
       "      <th>lastPurchase</th>\n",
       "      <th>recency</th>\n",
       "      <th>frequency</th>\n",
       "      <th>monetary</th>\n",
       "    </tr>\n",
       "    <tr>\n",
       "      <th>custno</th>\n",
       "      <th></th>\n",
       "      <th></th>\n",
       "      <th></th>\n",
       "      <th></th>\n",
       "      <th></th>\n",
       "      <th></th>\n",
       "      <th></th>\n",
       "    </tr>\n",
       "  </thead>\n",
       "  <tbody>\n",
       "    <tr>\n",
       "      <th>8</th>\n",
       "      <td>8</td>\n",
       "      <td>207.73500</td>\n",
       "      <td>2</td>\n",
       "      <td>277</td>\n",
       "      <td>2</td>\n",
       "      <td>1</td>\n",
       "      <td>3</td>\n",
       "    </tr>\n",
       "    <tr>\n",
       "      <th>9</th>\n",
       "      <td>9</td>\n",
       "      <td>217.47375</td>\n",
       "      <td>8</td>\n",
       "      <td>63</td>\n",
       "      <td>3</td>\n",
       "      <td>1</td>\n",
       "      <td>3</td>\n",
       "    </tr>\n",
       "    <tr>\n",
       "      <th>11</th>\n",
       "      <td>11</td>\n",
       "      <td>97.67500</td>\n",
       "      <td>6</td>\n",
       "      <td>32</td>\n",
       "      <td>3</td>\n",
       "      <td>1</td>\n",
       "      <td>2</td>\n",
       "    </tr>\n",
       "    <tr>\n",
       "      <th>15</th>\n",
       "      <td>15</td>\n",
       "      <td>68.42000</td>\n",
       "      <td>1</td>\n",
       "      <td>617</td>\n",
       "      <td>1</td>\n",
       "      <td>1</td>\n",
       "      <td>1</td>\n",
       "    </tr>\n",
       "    <tr>\n",
       "      <th>17</th>\n",
       "      <td>17</td>\n",
       "      <td>190.04000</td>\n",
       "      <td>4</td>\n",
       "      <td>20</td>\n",
       "      <td>3</td>\n",
       "      <td>1</td>\n",
       "      <td>2</td>\n",
       "    </tr>\n",
       "  </tbody>\n",
       "</table>\n",
       "</div>"
      ],
      "text/plain": [
       "        custno  avgSpending  frequencyOfPurchase  lastPurchase  recency  \\\n",
       "custno                                                                    \n",
       "8            8    207.73500                    2           277        2   \n",
       "9            9    217.47375                    8            63        3   \n",
       "11          11     97.67500                    6            32        3   \n",
       "15          15     68.42000                    1           617        1   \n",
       "17          17    190.04000                    4            20        3   \n",
       "\n",
       "        frequency  monetary  \n",
       "custno                       \n",
       "8               1         3  \n",
       "9               1         3  \n",
       "11              1         2  \n",
       "15              1         1  \n",
       "17              1         2  "
      ]
     },
     "execution_count": 228,
     "metadata": {},
     "output_type": "execute_result"
    }
   ],
   "source": [
    "RFMData.head()"
   ]
  },
  {
   "cell_type": "code",
   "execution_count": 229,
   "metadata": {
    "collapsed": true
   },
   "outputs": [],
   "source": [
    "temp = RFMData[['recency','monetary','frequency']]"
   ]
  },
  {
   "cell_type": "code",
   "execution_count": 230,
   "metadata": {},
   "outputs": [
    {
     "data": {
      "text/html": [
       "<div>\n",
       "<style>\n",
       "    .dataframe thead tr:only-child th {\n",
       "        text-align: right;\n",
       "    }\n",
       "\n",
       "    .dataframe thead th {\n",
       "        text-align: left;\n",
       "    }\n",
       "\n",
       "    .dataframe tbody tr th {\n",
       "        vertical-align: top;\n",
       "    }\n",
       "</style>\n",
       "<table border=\"1\" class=\"dataframe\">\n",
       "  <thead>\n",
       "    <tr style=\"text-align: right;\">\n",
       "      <th></th>\n",
       "      <th>recency</th>\n",
       "      <th>monetary</th>\n",
       "      <th>frequency</th>\n",
       "    </tr>\n",
       "    <tr>\n",
       "      <th>custno</th>\n",
       "      <th></th>\n",
       "      <th></th>\n",
       "      <th></th>\n",
       "    </tr>\n",
       "  </thead>\n",
       "  <tbody>\n",
       "    <tr>\n",
       "      <th>8</th>\n",
       "      <td>2</td>\n",
       "      <td>3</td>\n",
       "      <td>1</td>\n",
       "    </tr>\n",
       "    <tr>\n",
       "      <th>9</th>\n",
       "      <td>3</td>\n",
       "      <td>3</td>\n",
       "      <td>1</td>\n",
       "    </tr>\n",
       "    <tr>\n",
       "      <th>11</th>\n",
       "      <td>3</td>\n",
       "      <td>2</td>\n",
       "      <td>1</td>\n",
       "    </tr>\n",
       "    <tr>\n",
       "      <th>15</th>\n",
       "      <td>1</td>\n",
       "      <td>1</td>\n",
       "      <td>1</td>\n",
       "    </tr>\n",
       "    <tr>\n",
       "      <th>18</th>\n",
       "      <td>1</td>\n",
       "      <td>3</td>\n",
       "      <td>1</td>\n",
       "    </tr>\n",
       "    <tr>\n",
       "      <th>22</th>\n",
       "      <td>2</td>\n",
       "      <td>2</td>\n",
       "      <td>1</td>\n",
       "    </tr>\n",
       "    <tr>\n",
       "      <th>25</th>\n",
       "      <td>1</td>\n",
       "      <td>2</td>\n",
       "      <td>1</td>\n",
       "    </tr>\n",
       "    <tr>\n",
       "      <th>28</th>\n",
       "      <td>2</td>\n",
       "      <td>1</td>\n",
       "      <td>1</td>\n",
       "    </tr>\n",
       "    <tr>\n",
       "      <th>39</th>\n",
       "      <td>3</td>\n",
       "      <td>2</td>\n",
       "      <td>2</td>\n",
       "    </tr>\n",
       "    <tr>\n",
       "      <th>42</th>\n",
       "      <td>3</td>\n",
       "      <td>2</td>\n",
       "      <td>3</td>\n",
       "    </tr>\n",
       "    <tr>\n",
       "      <th>67</th>\n",
       "      <td>3</td>\n",
       "      <td>1</td>\n",
       "      <td>2</td>\n",
       "    </tr>\n",
       "    <tr>\n",
       "      <th>115</th>\n",
       "      <td>3</td>\n",
       "      <td>1</td>\n",
       "      <td>1</td>\n",
       "    </tr>\n",
       "    <tr>\n",
       "      <th>558</th>\n",
       "      <td>3</td>\n",
       "      <td>3</td>\n",
       "      <td>2</td>\n",
       "    </tr>\n",
       "    <tr>\n",
       "      <th>638</th>\n",
       "      <td>2</td>\n",
       "      <td>2</td>\n",
       "      <td>2</td>\n",
       "    </tr>\n",
       "    <tr>\n",
       "      <th>709</th>\n",
       "      <td>3</td>\n",
       "      <td>3</td>\n",
       "      <td>3</td>\n",
       "    </tr>\n",
       "  </tbody>\n",
       "</table>\n",
       "</div>"
      ],
      "text/plain": [
       "        recency  monetary  frequency\n",
       "custno                              \n",
       "8             2         3          1\n",
       "9             3         3          1\n",
       "11            3         2          1\n",
       "15            1         1          1\n",
       "18            1         3          1\n",
       "22            2         2          1\n",
       "25            1         2          1\n",
       "28            2         1          1\n",
       "39            3         2          2\n",
       "42            3         2          3\n",
       "67            3         1          2\n",
       "115           3         1          1\n",
       "558           3         3          2\n",
       "638           2         2          2\n",
       "709           3         3          3"
      ]
     },
     "execution_count": 230,
     "metadata": {},
     "output_type": "execute_result"
    }
   ],
   "source": [
    "temp.drop_duplicates()"
   ]
  },
  {
   "cell_type": "code",
   "execution_count": 231,
   "metadata": {},
   "outputs": [
    {
     "data": {
      "text/plain": [
       "(10323, 7)"
      ]
     },
     "execution_count": 231,
     "metadata": {},
     "output_type": "execute_result"
    }
   ],
   "source": [
    "RFMData.shape"
   ]
  },
  {
   "cell_type": "code",
   "execution_count": 232,
   "metadata": {
    "collapsed": true
   },
   "outputs": [],
   "source": [
    "del RFMData['custno']"
   ]
  },
  {
   "cell_type": "code",
   "execution_count": 233,
   "metadata": {},
   "outputs": [],
   "source": [
    "RFMData = RFMData.reset_index()"
   ]
  },
  {
   "cell_type": "code",
   "execution_count": 234,
   "metadata": {},
   "outputs": [],
   "source": [
    "RFMData['type'] = 0\n",
    "for i in RFMData.index:\n",
    "     RFMData['type'][i] = str(str(RFMData['recency'][i])+str(RFMData['monetary'][i])+str(RFMData['frequency'][i])) "
   ]
  },
  {
   "cell_type": "code",
   "execution_count": 235,
   "metadata": {},
   "outputs": [
    {
     "data": {
      "text/plain": [
       "15"
      ]
     },
     "execution_count": 235,
     "metadata": {},
     "output_type": "execute_result"
    }
   ],
   "source": [
    "len(RFMData.type.unique())"
   ]
  },
  {
   "cell_type": "code",
   "execution_count": 236,
   "metadata": {},
   "outputs": [
    {
     "data": {
      "text/html": [
       "<div>\n",
       "<style>\n",
       "    .dataframe thead tr:only-child th {\n",
       "        text-align: right;\n",
       "    }\n",
       "\n",
       "    .dataframe thead th {\n",
       "        text-align: left;\n",
       "    }\n",
       "\n",
       "    .dataframe tbody tr th {\n",
       "        vertical-align: top;\n",
       "    }\n",
       "</style>\n",
       "<table border=\"1\" class=\"dataframe\">\n",
       "  <thead>\n",
       "    <tr style=\"text-align: right;\">\n",
       "      <th></th>\n",
       "      <th>custno</th>\n",
       "      <th>avgSpending</th>\n",
       "      <th>frequencyOfPurchase</th>\n",
       "      <th>lastPurchase</th>\n",
       "      <th>recency</th>\n",
       "      <th>frequency</th>\n",
       "      <th>monetary</th>\n",
       "      <th>type</th>\n",
       "    </tr>\n",
       "  </thead>\n",
       "  <tbody>\n",
       "    <tr>\n",
       "      <th>0</th>\n",
       "      <td>8</td>\n",
       "      <td>207.73500</td>\n",
       "      <td>2</td>\n",
       "      <td>277</td>\n",
       "      <td>2</td>\n",
       "      <td>1</td>\n",
       "      <td>3</td>\n",
       "      <td>231</td>\n",
       "    </tr>\n",
       "    <tr>\n",
       "      <th>1</th>\n",
       "      <td>9</td>\n",
       "      <td>217.47375</td>\n",
       "      <td>8</td>\n",
       "      <td>63</td>\n",
       "      <td>3</td>\n",
       "      <td>1</td>\n",
       "      <td>3</td>\n",
       "      <td>331</td>\n",
       "    </tr>\n",
       "    <tr>\n",
       "      <th>2</th>\n",
       "      <td>11</td>\n",
       "      <td>97.67500</td>\n",
       "      <td>6</td>\n",
       "      <td>32</td>\n",
       "      <td>3</td>\n",
       "      <td>1</td>\n",
       "      <td>2</td>\n",
       "      <td>321</td>\n",
       "    </tr>\n",
       "    <tr>\n",
       "      <th>3</th>\n",
       "      <td>15</td>\n",
       "      <td>68.42000</td>\n",
       "      <td>1</td>\n",
       "      <td>617</td>\n",
       "      <td>1</td>\n",
       "      <td>1</td>\n",
       "      <td>1</td>\n",
       "      <td>111</td>\n",
       "    </tr>\n",
       "    <tr>\n",
       "      <th>4</th>\n",
       "      <td>17</td>\n",
       "      <td>190.04000</td>\n",
       "      <td>4</td>\n",
       "      <td>20</td>\n",
       "      <td>3</td>\n",
       "      <td>1</td>\n",
       "      <td>2</td>\n",
       "      <td>321</td>\n",
       "    </tr>\n",
       "  </tbody>\n",
       "</table>\n",
       "</div>"
      ],
      "text/plain": [
       "   custno  avgSpending  frequencyOfPurchase  lastPurchase  recency  frequency  \\\n",
       "0       8    207.73500                    2           277        2          1   \n",
       "1       9    217.47375                    8            63        3          1   \n",
       "2      11     97.67500                    6            32        3          1   \n",
       "3      15     68.42000                    1           617        1          1   \n",
       "4      17    190.04000                    4            20        3          1   \n",
       "\n",
       "   monetary  type  \n",
       "0         3   231  \n",
       "1         3   331  \n",
       "2         2   321  \n",
       "3         1   111  \n",
       "4         2   321  "
      ]
     },
     "execution_count": 236,
     "metadata": {},
     "output_type": "execute_result"
    }
   ],
   "source": [
    "RFMData.head()"
   ]
  },
  {
   "cell_type": "code",
   "execution_count": 587,
   "metadata": {},
   "outputs": [
    {
     "data": {
      "image/png": "[encoded data removed]",
      "text/plain": [
       "<matplotlib.figure.Figure at 0x22ed871e400>"
      ]
     },
     "metadata": {},
     "output_type": "display_data"
    }
   ],
   "source": [
    "# Trimodal histogram indicating 3 classes\n",
    "plt.hist(RFMData.lastPurchase,bins= 50)\n",
    "plt.title('Histogram of Last Purchase in Days')\n",
    "plt.show()"
   ]
  },
  {
   "cell_type": "code",
   "execution_count": 457,
   "metadata": {},
   "outputs": [
    {
     "data": {
      "image/png": "[encoded data removed]",
      "text/plain": [
       "<matplotlib.figure.Figure at 0x22ed3a1eb38>"
      ]
     },
     "metadata": {},
     "output_type": "display_data"
    }
   ],
   "source": [
    "# Extremely right skewed, usually customer buys once or twice, our goal is to increase that number by target marketing\n",
    "temp = RFMData.groupby(['frequencyOfPurchase']).count()\n",
    "plt.bar(temp.index, np.log(temp.type), width = 1)\n",
    "plt.title('')\n",
    "plt.show()"
   ]
  },
  {
   "cell_type": "code",
   "execution_count": 470,
   "metadata": {},
   "outputs": [
    {
     "data": {
      "image/png": "[encoded data removed]",
      "text/plain": [
       "<matplotlib.figure.Figure at 0x22eca930e48>"
      ]
     },
     "metadata": {},
     "output_type": "display_data"
    }
   ],
   "source": [
    "temp = RFMData.groupby(['frequencyOfPurchase']).size()\n",
    "plt.plot(RFMData.groupby(['frequencyOfPurchase']).size(),color = 'b')\n",
    "plt.bar(temp.index, temp.values)\n",
    "plt.title('Frequency vs No. of Customers')\n",
    "plt.xlabel('Frequency')\n",
    "plt.ylabel('No. of Customers')\n",
    "plt.show()"
   ]
  },
  {
   "cell_type": "code",
   "execution_count": 585,
   "metadata": {},
   "outputs": [
    {
     "data": {
      "image/png": "[encoded data removed]",
      "text/plain": [
       "<matplotlib.figure.Figure at 0x22ed524dba8>"
      ]
     },
     "metadata": {},
     "output_type": "display_data"
    }
   ],
   "source": [
    "plt.scatter(RFMData.avgSpending, RFMData.lastPurchase)\n",
    "plt.title('Monetary vs Recency')\n",
    "plt.xlabel('Monetary')\n",
    "plt.ylabel('Recency')\n",
    "plt.show()"
   ]
  },
  {
   "cell_type": "markdown",
   "metadata": {},
   "source": [
    "    Type - Customer Persona is high correlation with lastPurchase, it is obvious that we are gettig a high correlation \n",
    "    because the personas are majorly based on last purchase. To tackle this we can club some of the similar personas. \n",
    "    Clubbing the personas could be the future score of this analysis.\n",
    "    \n",
    "    Good thing is there are no multicolinearilty bais."
   ]
  },
  {
   "cell_type": "code",
   "execution_count": 627,
   "metadata": {},
   "outputs": [
    {
     "data": {
      "text/html": [
       "<div>\n",
       "<style>\n",
       "    .dataframe thead tr:only-child th {\n",
       "        text-align: right;\n",
       "    }\n",
       "\n",
       "    .dataframe thead th {\n",
       "        text-align: left;\n",
       "    }\n",
       "\n",
       "    .dataframe tbody tr th {\n",
       "        vertical-align: top;\n",
       "    }\n",
       "</style>\n",
       "<table border=\"1\" class=\"dataframe\">\n",
       "  <thead>\n",
       "    <tr style=\"text-align: right;\">\n",
       "      <th></th>\n",
       "      <th>avgSpending</th>\n",
       "      <th>frequencyOfPurchase</th>\n",
       "      <th>lastPurchase</th>\n",
       "      <th>type</th>\n",
       "    </tr>\n",
       "  </thead>\n",
       "  <tbody>\n",
       "    <tr>\n",
       "      <th>avgSpending</th>\n",
       "      <td>1.000000</td>\n",
       "      <td>-0.055377</td>\n",
       "      <td>-0.006588</td>\n",
       "      <td>0.067411</td>\n",
       "    </tr>\n",
       "    <tr>\n",
       "      <th>frequencyOfPurchase</th>\n",
       "      <td>-0.055377</td>\n",
       "      <td>1.000000</td>\n",
       "      <td>-0.313718</td>\n",
       "      <td>0.272742</td>\n",
       "    </tr>\n",
       "    <tr>\n",
       "      <th>lastPurchase</th>\n",
       "      <td>-0.006588</td>\n",
       "      <td>-0.313718</td>\n",
       "      <td>1.000000</td>\n",
       "      <td>-0.940238</td>\n",
       "    </tr>\n",
       "    <tr>\n",
       "      <th>type</th>\n",
       "      <td>0.067411</td>\n",
       "      <td>0.272742</td>\n",
       "      <td>-0.940238</td>\n",
       "      <td>1.000000</td>\n",
       "    </tr>\n",
       "  </tbody>\n",
       "</table>\n",
       "</div>"
      ],
      "text/plain": [
       "                     avgSpending  frequencyOfPurchase  lastPurchase      type\n",
       "avgSpending             1.000000            -0.055377     -0.006588  0.067411\n",
       "frequencyOfPurchase    -0.055377             1.000000     -0.313718  0.272742\n",
       "lastPurchase           -0.006588            -0.313718      1.000000 -0.940238\n",
       "type                    0.067411             0.272742     -0.940238  1.000000"
      ]
     },
     "execution_count": 627,
     "metadata": {},
     "output_type": "execute_result"
    }
   ],
   "source": [
    "RFMData[['avgSpending','frequencyOfPurchase','lastPurchase','type']].corr()"
   ]
  },
  {
   "cell_type": "markdown",
   "metadata": {},
   "source": [
    "## Model design, Sampling, and Model Generation\n"
   ]
  },
  {
   "cell_type": "code",
   "execution_count": 487,
   "metadata": {
    "collapsed": true
   },
   "outputs": [],
   "source": [
    "from sklearn.preprocessing import StandardScaler\n",
    "from sklearn.pipeline import Pipeline\n",
    "from sklearn.linear_model import SGDClassifier\n",
    "from sklearn.metrics import confusion_matrix"
   ]
  },
  {
   "cell_type": "code",
   "execution_count": 170,
   "metadata": {
    "collapsed": true
   },
   "outputs": [],
   "source": [
    "X = RFMData[['avgSpending', 'frequencyOfPurchase','lastPurchase']]\n",
    "y = RFMData['type']"
   ]
  },
  {
   "cell_type": "code",
   "execution_count": 593,
   "metadata": {
    "collapsed": true
   },
   "outputs": [],
   "source": [
    "from sklearn.model_selection import train_test_split\n",
    "X_train, X_test, y_train, y_test = train_test_split(X,y,test_size =0.35, random_state = 42)"
   ]
  },
  {
   "cell_type": "markdown",
   "metadata": {},
   "source": [
    "    SDG Classifier"
   ]
  },
  {
   "cell_type": "code",
   "execution_count": 599,
   "metadata": {
    "collapsed": true
   },
   "outputs": [],
   "source": [
    "sgd = SGDClassifier()\n",
    "sgd_clf = Pipeline([('sc', StandardScaler()), ('svc', sgd)])"
   ]
  },
  {
   "cell_type": "code",
   "execution_count": 600,
   "metadata": {},
   "outputs": [
    {
     "data": {
      "text/plain": [
       "Pipeline(memory=None,\n",
       "     steps=[('sc', StandardScaler(copy=True, with_mean=True, with_std=True)), ('svc', SGDClassifier(alpha=0.0001, average=False, class_weight=None,\n",
       "       early_stopping=False, epsilon=0.1, eta0=0.0, fit_intercept=True,\n",
       "       l1_ratio=0.15, learning_rate='optimal', loss='hinge', max_iter=None,\n",
       "       n_iter=None, n_iter_no_change=5, n_jobs=None, penalty='l2',\n",
       "       power_t=0.5, random_state=None, shuffle=True, tol=None,\n",
       "       validation_fraction=0.1, verbose=0, warm_start=False))])"
      ]
     },
     "execution_count": 600,
     "metadata": {},
     "output_type": "execute_result"
    }
   ],
   "source": [
    "sgd_clf.fit(X_train,y_train)"
   ]
  },
  {
   "cell_type": "code",
   "execution_count": 601,
   "metadata": {},
   "outputs": [
    {
     "data": {
      "text/plain": [
       "0.6427780852241284"
      ]
     },
     "execution_count": 601,
     "metadata": {},
     "output_type": "execute_result"
    }
   ],
   "source": [
    "y_pred = sgd_clf.predict(X_test)\n",
    "accuracy_score(y_pred,y_test)"
   ]
  },
  {
   "cell_type": "code",
   "execution_count": 602,
   "metadata": {},
   "outputs": [
    {
     "data": {
      "image/png": "[encoded data removed]",
      "text/plain": [
       "<matplotlib.figure.Figure at 0x22ed3f40940>"
      ]
     },
     "metadata": {},
     "output_type": "display_data"
    }
   ],
   "source": [
    "cm  = confusion_matrix(y_pred,y_test)\n",
    "plt.matshow(cm)\n",
    "plt.title('Confusion matrix')\n",
    "plt.colorbar()\n",
    "plt.ylabel('True label')\n",
    "plt.xlabel('Predicted label')\n",
    "plt.show()"
   ]
  },
  {
   "cell_type": "markdown",
   "metadata": {},
   "source": [
    "     RandomForest Classifier"
   ]
  },
  {
   "cell_type": "code",
   "execution_count": 603,
   "metadata": {},
   "outputs": [],
   "source": [
    "from sklearn.ensemble import RandomForestClassifier"
   ]
  },
  {
   "cell_type": "code",
   "execution_count": 604,
   "metadata": {},
   "outputs": [],
   "source": [
    "rf = RandomForestClassifier(n_estimators=100, random_state=42)"
   ]
  },
  {
   "cell_type": "code",
   "execution_count": 605,
   "metadata": {
    "collapsed": true
   },
   "outputs": [],
   "source": [
    "rf_clf = Pipeline([('sc', StandardScaler()), ('rf', rf)])"
   ]
  },
  {
   "cell_type": "code",
   "execution_count": 606,
   "metadata": {},
   "outputs": [
    {
     "data": {
      "text/plain": [
       "Pipeline(memory=None,\n",
       "     steps=[('sc', StandardScaler(copy=True, with_mean=True, with_std=True)), ('rf', RandomForestClassifier(bootstrap=True, class_weight=None, criterion='gini',\n",
       "            max_depth=None, max_features='auto', max_leaf_nodes=None,\n",
       "            min_impurity_decrease=0.0, min_impurity_split=None,\n",
       "            min_samples_leaf=1, min_samples_split=2,\n",
       "            min_weight_fraction_leaf=0.0, n_estimators=100, n_jobs=None,\n",
       "            oob_score=False, random_state=42, verbose=0, warm_start=False))])"
      ]
     },
     "execution_count": 606,
     "metadata": {},
     "output_type": "execute_result"
    }
   ],
   "source": [
    "rf_clf.fit(X_train,y_train)"
   ]
  },
  {
   "cell_type": "code",
   "execution_count": 607,
   "metadata": {},
   "outputs": [],
   "source": [
    "y_pred = rf_clf.predict(X_test)"
   ]
  },
  {
   "cell_type": "code",
   "execution_count": 608,
   "metadata": {},
   "outputs": [
    {
     "data": {
      "text/plain": [
       "0.9980630879911455"
      ]
     },
     "execution_count": 608,
     "metadata": {},
     "output_type": "execute_result"
    }
   ],
   "source": [
    "accuracy_score(y_pred,y_test)"
   ]
  },
  {
   "cell_type": "code",
   "execution_count": 609,
   "metadata": {
    "collapsed": true
   },
   "outputs": [],
   "source": [
    "cm  = confusion_matrix(y_pred,y_test)"
   ]
  },
  {
   "cell_type": "code",
   "execution_count": 610,
   "metadata": {},
   "outputs": [
    {
     "data": {
      "image/png": "[encoded data removed]",
      "text/plain": [
       "<matplotlib.figure.Figure at 0x22ecb7580f0>"
      ]
     },
     "metadata": {},
     "output_type": "display_data"
    }
   ],
   "source": [
    "plt.matshow(cm)\n",
    "plt.title('Confusion matrix')\n",
    "plt.colorbar()\n",
    "plt.ylabel('True label')\n",
    "plt.xlabel('Predicted label')\n",
    "plt.show()"
   ]
  },
  {
   "cell_type": "markdown",
   "metadata": {},
   "source": [
    "    Naive Bayes"
   ]
  },
  {
   "cell_type": "code",
   "execution_count": 611,
   "metadata": {
    "collapsed": true
   },
   "outputs": [],
   "source": [
    "from sklearn.naive_bayes import GaussianNB"
   ]
  },
  {
   "cell_type": "code",
   "execution_count": 612,
   "metadata": {
    "collapsed": true
   },
   "outputs": [],
   "source": [
    "nb = GaussianNB()"
   ]
  },
  {
   "cell_type": "code",
   "execution_count": 613,
   "metadata": {
    "collapsed": true
   },
   "outputs": [],
   "source": [
    "nb_clf = Pipeline([('sc', StandardScaler()), ('rf', nb)])"
   ]
  },
  {
   "cell_type": "code",
   "execution_count": 614,
   "metadata": {},
   "outputs": [
    {
     "data": {
      "text/plain": [
       "Pipeline(memory=None,\n",
       "     steps=[('sc', StandardScaler(copy=True, with_mean=True, with_std=True)), ('rf', GaussianNB(priors=None, var_smoothing=1e-09))])"
      ]
     },
     "execution_count": 614,
     "metadata": {},
     "output_type": "execute_result"
    }
   ],
   "source": [
    "nb_clf.fit(X_train,y_train)"
   ]
  },
  {
   "cell_type": "code",
   "execution_count": 615,
   "metadata": {
    "collapsed": true
   },
   "outputs": [],
   "source": [
    "y_pred = nb_clf.predict(X_test)"
   ]
  },
  {
   "cell_type": "code",
   "execution_count": 616,
   "metadata": {},
   "outputs": [
    {
     "data": {
      "text/plain": [
       "0.8774211400110681"
      ]
     },
     "execution_count": 616,
     "metadata": {},
     "output_type": "execute_result"
    }
   ],
   "source": [
    "accuracy_score(y_pred,y_test)"
   ]
  },
  {
   "cell_type": "code",
   "execution_count": 617,
   "metadata": {
    "collapsed": true
   },
   "outputs": [],
   "source": [
    "cm  = confusion_matrix(y_pred,y_test)"
   ]
  },
  {
   "cell_type": "code",
   "execution_count": 618,
   "metadata": {},
   "outputs": [
    {
     "data": {
      "image/png": "[encoded data removed]",
      "text/plain": [
       "<matplotlib.figure.Figure at 0x22ed83f8208>"
      ]
     },
     "metadata": {},
     "output_type": "display_data"
    }
   ],
   "source": [
    "plt.matshow(cm)\n",
    "plt.title('Confusion matrix')\n",
    "plt.colorbar()\n",
    "plt.ylabel('True label')\n",
    "plt.xlabel('Predicted label')\n",
    "plt.show()"
   ]
  },
  {
   "cell_type": "markdown",
   "metadata": {},
   "source": [
    "    Support Vector Machine Classifier"
   ]
  },
  {
   "cell_type": "code",
   "execution_count": 619,
   "metadata": {
    "collapsed": true
   },
   "outputs": [],
   "source": [
    "from sklearn.svm import SVC\n",
    "svm = SVC(gamma=\"auto\")"
   ]
  },
  {
   "cell_type": "code",
   "execution_count": 620,
   "metadata": {
    "collapsed": true
   },
   "outputs": [],
   "source": [
    "svm_clf = Pipeline([('sc', StandardScaler()), ('svm', svm)])"
   ]
  },
  {
   "cell_type": "code",
   "execution_count": 621,
   "metadata": {},
   "outputs": [
    {
     "data": {
      "text/plain": [
       "Pipeline(memory=None,\n",
       "     steps=[('sc', StandardScaler(copy=True, with_mean=True, with_std=True)), ('svm', SVC(C=1.0, cache_size=200, class_weight=None, coef0=0.0,\n",
       "  decision_function_shape='ovr', degree=3, gamma='auto', kernel='rbf',\n",
       "  max_iter=-1, probability=False, random_state=None, shrinking=True,\n",
       "  tol=0.001, verbose=False))])"
      ]
     },
     "execution_count": 621,
     "metadata": {},
     "output_type": "execute_result"
    }
   ],
   "source": [
    "svm_clf.fit(X_train,y_train)"
   ]
  },
  {
   "cell_type": "code",
   "execution_count": 622,
   "metadata": {
    "collapsed": true
   },
   "outputs": [],
   "source": [
    "y_pred = svm_clf.predict(X_test)"
   ]
  },
  {
   "cell_type": "code",
   "execution_count": 623,
   "metadata": {},
   "outputs": [
    {
     "data": {
      "text/plain": [
       "0.9684560044272275"
      ]
     },
     "execution_count": 623,
     "metadata": {},
     "output_type": "execute_result"
    }
   ],
   "source": [
    "accuracy_score(y_pred,y_test)"
   ]
  },
  {
   "cell_type": "code",
   "execution_count": 624,
   "metadata": {},
   "outputs": [
    {
     "data": {
      "image/png": "[encoded data removed]",
      "text/plain": [
       "<matplotlib.figure.Figure at 0x22ed9410e80>"
      ]
     },
     "metadata": {},
     "output_type": "display_data"
    }
   ],
   "source": [
    "cm  = confusion_matrix(y_pred,y_test)\n",
    "plt.matshow(cm)\n",
    "plt.title('Confusion matrix')\n",
    "plt.colorbar()\n",
    "plt.ylabel('True label')\n",
    "plt.xlabel('Predicted label')\n",
    "plt.show()"
   ]
  },
  {
   "cell_type": "markdown",
   "metadata": {},
   "source": [
    "    Pickling the Model"
   ]
  },
  {
   "cell_type": "markdown",
   "metadata": {},
   "source": [
    "\n"
   ]
  },
  {
   "cell_type": "code",
   "execution_count": 625,
   "metadata": {},
   "outputs": [],
   "source": [
    "import pickle\n",
    "with open('NB_clf.pkl', 'wb') as fid:\n",
    "    pickle.dump(NB_clf, fid)"
   ]
  },
  {
   "cell_type": "markdown",
   "metadata": {},
   "source": [
    "## Model evaluation"
   ]
  },
  {
   "cell_type": "code",
   "execution_count": 626,
   "metadata": {},
   "outputs": [
    {
     "name": "stdout",
     "output_type": "stream",
     "text": [
      "Accuracy Score of SVM Classifier :0.9687122055002952\n",
      "Accuracy Score of Naive Bayes Classifier :0.8834643920961558\n",
      "Accuracy Score of Random Forest Classifier :0.9986703297915149\n",
      "Accuracy Score of Stochastic Gradient Descent Classifier :0.5882137430288942\n"
     ]
    }
   ],
   "source": [
    "from sklearn.model_selection import cross_val_score\n",
    "#Cross validation of score of SVM Classifier \n",
    "svm_scores = cross_val_score(svm_clf, X_train, y_train, cv=10)\n",
    "print(\"Accuracy Score of SVM Classifier :\"+ str(svm_scores.mean()))\n",
    "\n",
    "#Cross validation of score of Naive Bayes Classifier \n",
    "nb_clf_scores = cross_val_score(nb_clf, X_train, y_train, cv=10)\n",
    "print(\"Accuracy Score of Naive Bayes Classifier :\"+ str(nb_clf_scores.mean()))\n",
    "\n",
    "#Cross validation of score of Random Forest Classifier \n",
    "rf_clf_scores = cross_val_score(rf_clf, X_train, y_train, cv=10)\n",
    "print(\"Accuracy Score of Random Forest Classifier :\"+ str(rf_clf_scores.mean()))\n",
    "\n",
    "#Cross validation of score of Stochastic Gradient Descent Classifier \n",
    "sgd_clf_scores = cross_val_score(sgd_clf, X_train, y_train, cv=10)\n",
    "print(\"Accuracy Score of Stochastic Gradient Descent Classifier :\"+ str(sgd_clf_scores.mean()))"
   ]
  },
  {
   "cell_type": "markdown",
   "metadata": {},
   "source": [
    "    The cross validation score are approximately same as the accuracy scores. I will choose a regularized model like the \n",
    "    Naive Bayes classifier in this case. Althought the accuracy of the SVM and Random forest are as high as 1, but I cannot \n",
    "    use these models because these model might not work accurately for new and varied data."
   ]
  },
  {
   "cell_type": "markdown",
   "metadata": {},
   "source": [
    "# Summary"
   ]
  },
  {
   "cell_type": "markdown",
   "metadata": {},
   "source": [
    "    To sum up I have successfully created a classification model to classify the type of customer based on their recency,\n",
    "    monetary, and frequency metrics. By rating the customers based on their metrics I have identified 15 types of customers \n",
    "    for which personlized marketing strategies can be made to boost revenue. And based on these models we can analyse \n",
    "    the future behavior by feeding values to model and predicting how the customer is going to turn out in future.\n",
    "    \n",
    "    We can also add more variables to model like customers age group, location, time since creating of account, most \n",
    "    favorable product category, enterprise customer or an individual customer etc.\n",
    "    \n",
    "    By comparing various multi-class classificiation model I have come to a conclusion that Naive Bayes is best model to\n",
    "    classify the type of customer.\n",
    "\n",
    "\n"
   ]
  },
  {
   "cell_type": "code",
   "execution_count": null,
   "metadata": {
    "collapsed": true
   },
   "outputs": [],
   "source": []
  }
 ],
 "metadata": {
  "kernelspec": {
   "display_name": "Python 3",
   "language": "python",
   "name": "python3"
  },
  "language_info": {
   "codemirror_mode": {
    "name": "ipython",
    "version": 3
   },
   "file_extension": ".py",
   "mimetype": "text/x-python",
   "name": "python",
   "nbconvert_exporter": "python",
   "pygments_lexer": "ipython3",
   "version": "3.6.3"
  }
 },
 "nbformat": 4,
 "nbformat_minor": 2
}
